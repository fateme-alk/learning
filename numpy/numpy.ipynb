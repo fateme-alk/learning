{
  "cells": [
    {
      "cell_type": "markdown",
      "metadata": {
        "id": "view-in-github",
        "colab_type": "text"
      },
      "source": [
        "<a href=\"https://colab.research.google.com/github/fateme-alk/learning/blob/main/numpy/numpy.ipynb\" target=\"_parent\"><img src=\"https://colab.research.google.com/assets/colab-badge.svg\" alt=\"Open In Colab\"/></a>"
      ]
    },
    {
      "cell_type": "code",
      "execution_count": null,
      "metadata": {
        "id": "3d_nfcfwIIdi"
      },
      "outputs": [],
      "source": [
        "import numpy as np"
      ]
    },
    {
      "cell_type": "code",
      "execution_count": null,
      "metadata": {
        "colab": {
          "base_uri": "https://localhost:8080/"
        },
        "id": "now7WhaUGsUV",
        "outputId": "bdb58d1c-64d1-4419-ca00-94b8d4f46a48"
      },
      "outputs": [
        {
          "name": "stdout",
          "output_type": "stream",
          "text": [
            "[0 1 2 3 4 5 6 7 8 9]\n",
            "[5 6 7 8 9]\n"
          ]
        }
      ],
      "source": [
        "print(np.arange(10))\n",
        "print(np.arange(5, 10, 1))"
      ]
    },
    {
      "cell_type": "code",
      "execution_count": null,
      "metadata": {
        "colab": {
          "base_uri": "https://localhost:8080/"
        },
        "id": "NDR11BO9GzSU",
        "outputId": "0a681c59-1a08-439c-80e4-31905fcd4705"
      },
      "outputs": [
        {
          "name": "stdout",
          "output_type": "stream",
          "text": [
            "[1.         1.57142857 2.14285714 2.71428571 3.28571429 3.85714286\n",
            " 4.42857143 5.        ]\n"
          ]
        }
      ],
      "source": [
        "print(np.linspace(1, 5, 8))"
      ]
    },
    {
      "cell_type": "code",
      "execution_count": null,
      "metadata": {
        "colab": {
          "base_uri": "https://localhost:8080/"
        },
        "id": "a1sIvQgYKazw",
        "outputId": "5c9e65b6-f92e-4b78-8fe0-bf00fba12b49"
      },
      "outputs": [
        {
          "name": "stdout",
          "output_type": "stream",
          "text": [
            "[[1. 0. 0.]\n",
            " [0. 1. 0.]\n",
            " [0. 0. 1.]]\n",
            "***************\n",
            "[[1. 0. 0.]\n",
            " [0. 1. 0.]\n",
            " [0. 0. 1.]]\n",
            "***************\n",
            "[[1. 0. 0. 0. 0.]\n",
            " [0. 1. 0. 0. 0.]\n",
            " [0. 0. 1. 0. 0.]]\n",
            "***************\n",
            "[[0. 0. 1. 0. 0.]\n",
            " [0. 0. 0. 1. 0.]\n",
            " [0. 0. 0. 0. 1.]]\n"
          ]
        }
      ],
      "source": [
        "print(np.eye(3), end=f\"\\n***************\\n\")\n",
        "\n",
        "print(np.eye(3, 3), end=f\"\\n***************\\n\")\n",
        "\n",
        "print(np.eye(3, 5), end=f\"\\n***************\\n\")\n",
        "\n",
        "# Creates a 2D identity-like matrix with: 3 rows, 5 columns, Diagonal offset 2 (shifts the diagonal to start at column index 2).\n",
        "print(np.eye(3, 5, 2))"
      ]
    },
    {
      "cell_type": "code",
      "execution_count": null,
      "metadata": {
        "id": "W_ZJDQHEKn5I"
      },
      "outputs": [],
      "source": [
        "a = np.array(\n",
        "    [1, 2, 3]\n",
        "    )"
      ]
    },
    {
      "cell_type": "code",
      "execution_count": null,
      "metadata": {
        "id": "-KXcvjSBN2uA"
      },
      "outputs": [],
      "source": [
        "b = np.array(\n",
        "    [[1, 2, 3],\n",
        "     [4, 5, 6]]\n",
        ")"
      ]
    },
    {
      "cell_type": "code",
      "execution_count": null,
      "metadata": {
        "id": "DfveqdhUOX6a"
      },
      "outputs": [],
      "source": [
        "c = np.array(\n",
        "    [\n",
        "        [[1, 2, 3],\n",
        "         [4, 5, 6]],\n",
        "\n",
        "        [[7, 8, 9],\n",
        "         [10, 11, 12]]\n",
        "    ]\n",
        ")"
      ]
    },
    {
      "cell_type": "code",
      "execution_count": null,
      "metadata": {
        "colab": {
          "base_uri": "https://localhost:8080/"
        },
        "id": "HnF_NCDkPxms",
        "outputId": "2e81d327-2cc6-46ca-c0e8-3caa97f3ae37"
      },
      "outputs": [
        {
          "data": {
            "text/plain": [
              "3"
            ]
          },
          "execution_count": 41,
          "metadata": {},
          "output_type": "execute_result"
        }
      ],
      "source": [
        "c.ndim"
      ]
    },
    {
      "cell_type": "code",
      "execution_count": null,
      "metadata": {
        "colab": {
          "base_uri": "https://localhost:8080/"
        },
        "id": "eXzbbwQ1PpNr",
        "outputId": "4cf487aa-2d5b-491f-a59f-9b8e7df3ff0b"
      },
      "outputs": [
        {
          "data": {
            "text/plain": [
              "(2, 2, 3)"
            ]
          },
          "execution_count": 40,
          "metadata": {},
          "output_type": "execute_result"
        }
      ],
      "source": [
        "c.shape"
      ]
    },
    {
      "cell_type": "code",
      "execution_count": null,
      "metadata": {
        "id": "ii2swylxPqWX"
      },
      "outputs": [],
      "source": [
        "import numpy as np\n",
        "import pandas as pd"
      ]
    },
    {
      "cell_type": "code",
      "execution_count": null,
      "metadata": {
        "id": "TbSzX-Lct2wJ"
      },
      "outputs": [],
      "source": [
        "a = np.nan"
      ]
    },
    {
      "cell_type": "code",
      "execution_count": null,
      "metadata": {
        "colab": {
          "base_uri": "https://localhost:8080/"
        },
        "id": "v94a3YCUt-8Q",
        "outputId": "7a1e43cc-b902-4d84-b4d9-bf53d37f1bfc"
      },
      "outputs": [
        {
          "data": {
            "text/plain": [
              "nan"
            ]
          },
          "execution_count": 5,
          "metadata": {},
          "output_type": "execute_result"
        }
      ],
      "source": [
        "a"
      ]
    },
    {
      "cell_type": "code",
      "execution_count": null,
      "metadata": {
        "colab": {
          "base_uri": "https://localhost:8080/"
        },
        "id": "QPmSg7eOuLf4",
        "outputId": "03264483-9c6a-4ad1-f65e-43c20122b0d9"
      },
      "outputs": [
        {
          "name": "stdout",
          "output_type": "stream",
          "text": [
            "nan\n"
          ]
        }
      ],
      "source": [
        "print(a)"
      ]
    },
    {
      "cell_type": "code",
      "execution_count": null,
      "metadata": {
        "colab": {
          "base_uri": "https://localhost:8080/"
        },
        "id": "Shlx-YBDuMWg",
        "outputId": "2eb44371-4e29-4cb4-b4eb-06125c639810"
      },
      "outputs": [
        {
          "data": {
            "text/plain": [
              "float"
            ]
          },
          "execution_count": 7,
          "metadata": {},
          "output_type": "execute_result"
        }
      ],
      "source": [
        "type(a)"
      ]
    },
    {
      "cell_type": "code",
      "execution_count": null,
      "metadata": {
        "id": "nWhULWEOuNKY"
      },
      "outputs": [],
      "source": [
        "se = pd.Series(\n",
        "    [np.nan, 20, pd.NA, 40, pd.NaT, None]\n",
        ")"
      ]
    },
    {
      "cell_type": "code",
      "execution_count": null,
      "metadata": {
        "colab": {
          "base_uri": "https://localhost:8080/",
          "height": 272
        },
        "id": "IEMoDy3Jvej6",
        "outputId": "57e005aa-3b20-4183-c931-e99d7b8eeb22"
      },
      "outputs": [
        {
          "data": {
            "text/html": [
              "<div>\n",
              "<style scoped>\n",
              "    .dataframe tbody tr th:only-of-type {\n",
              "        vertical-align: middle;\n",
              "    }\n",
              "\n",
              "    .dataframe tbody tr th {\n",
              "        vertical-align: top;\n",
              "    }\n",
              "\n",
              "    .dataframe thead th {\n",
              "        text-align: right;\n",
              "    }\n",
              "</style>\n",
              "<table border=\"1\" class=\"dataframe\">\n",
              "  <thead>\n",
              "    <tr style=\"text-align: right;\">\n",
              "      <th></th>\n",
              "      <th>0</th>\n",
              "    </tr>\n",
              "  </thead>\n",
              "  <tbody>\n",
              "    <tr>\n",
              "      <th>0</th>\n",
              "      <td>NaN</td>\n",
              "    </tr>\n",
              "    <tr>\n",
              "      <th>1</th>\n",
              "      <td>20</td>\n",
              "    </tr>\n",
              "    <tr>\n",
              "      <th>2</th>\n",
              "      <td>&lt;NA&gt;</td>\n",
              "    </tr>\n",
              "    <tr>\n",
              "      <th>3</th>\n",
              "      <td>40</td>\n",
              "    </tr>\n",
              "    <tr>\n",
              "      <th>4</th>\n",
              "      <td>NaT</td>\n",
              "    </tr>\n",
              "    <tr>\n",
              "      <th>5</th>\n",
              "      <td>None</td>\n",
              "    </tr>\n",
              "  </tbody>\n",
              "</table>\n",
              "</div><br><label><b>dtype:</b> object</label>"
            ],
            "text/plain": [
              "0     NaN\n",
              "1      20\n",
              "2    <NA>\n",
              "3      40\n",
              "4     NaT\n",
              "5    None\n",
              "dtype: object"
            ]
          },
          "execution_count": 9,
          "metadata": {},
          "output_type": "execute_result"
        }
      ],
      "source": [
        "se"
      ]
    },
    {
      "cell_type": "code",
      "execution_count": null,
      "metadata": {
        "colab": {
          "base_uri": "https://localhost:8080/",
          "height": 272
        },
        "id": "O5YL1wn1vfAX",
        "outputId": "83a41e88-c999-4100-ce52-5e0be2683e26"
      },
      "outputs": [
        {
          "data": {
            "text/html": [
              "<div>\n",
              "<style scoped>\n",
              "    .dataframe tbody tr th:only-of-type {\n",
              "        vertical-align: middle;\n",
              "    }\n",
              "\n",
              "    .dataframe tbody tr th {\n",
              "        vertical-align: top;\n",
              "    }\n",
              "\n",
              "    .dataframe thead th {\n",
              "        text-align: right;\n",
              "    }\n",
              "</style>\n",
              "<table border=\"1\" class=\"dataframe\">\n",
              "  <thead>\n",
              "    <tr style=\"text-align: right;\">\n",
              "      <th></th>\n",
              "      <th>0</th>\n",
              "    </tr>\n",
              "  </thead>\n",
              "  <tbody>\n",
              "    <tr>\n",
              "      <th>0</th>\n",
              "      <td>True</td>\n",
              "    </tr>\n",
              "    <tr>\n",
              "      <th>1</th>\n",
              "      <td>False</td>\n",
              "    </tr>\n",
              "    <tr>\n",
              "      <th>2</th>\n",
              "      <td>True</td>\n",
              "    </tr>\n",
              "    <tr>\n",
              "      <th>3</th>\n",
              "      <td>False</td>\n",
              "    </tr>\n",
              "    <tr>\n",
              "      <th>4</th>\n",
              "      <td>True</td>\n",
              "    </tr>\n",
              "    <tr>\n",
              "      <th>5</th>\n",
              "      <td>True</td>\n",
              "    </tr>\n",
              "  </tbody>\n",
              "</table>\n",
              "</div><br><label><b>dtype:</b> bool</label>"
            ],
            "text/plain": [
              "0     True\n",
              "1    False\n",
              "2     True\n",
              "3    False\n",
              "4     True\n",
              "5     True\n",
              "dtype: bool"
            ]
          },
          "execution_count": 10,
          "metadata": {},
          "output_type": "execute_result"
        }
      ],
      "source": [
        "se.isnull()"
      ]
    },
    {
      "cell_type": "code",
      "execution_count": null,
      "metadata": {
        "id": "odKYebosUytx"
      },
      "outputs": [],
      "source": [
        "import numpy as np\n",
        "import pandas as pd"
      ]
    },
    {
      "cell_type": "code",
      "execution_count": null,
      "metadata": {
        "id": "owNmW0XNvvR-"
      },
      "outputs": [],
      "source": [
        "data = {\n",
        "    \"Name\": [np.nan, pd.NA, pd.NaT, None],\n",
        "    \"Age\": [25, 30, None, 22],\n",
        "    \"Salary\": [50000, None, 70000, 60000],\n",
        "    \"Department\": [\"HR\", \"Tech\", \"Tech\", None]\n",
        "}\n",
        "\n",
        "df = pd.DataFrame(data)"
      ]
    },
    {
      "cell_type": "code",
      "execution_count": null,
      "metadata": {
        "colab": {
          "base_uri": "https://localhost:8080/",
          "height": 175
        },
        "id": "DKw2S81wVQra",
        "outputId": "d3b76519-6c56-4e7d-fc97-20ec0e041a31"
      },
      "outputs": [
        {
          "data": {
            "application/vnd.google.colaboratory.intrinsic+json": {
              "repr_error": "Out of range float values are not JSON compliant: nan",
              "type": "dataframe",
              "variable_name": "df"
            },
            "text/html": [
              "\n",
              "  <div id=\"df-46772b5f-fdf9-420c-9e58-a43ff86fc0b5\" class=\"colab-df-container\">\n",
              "    <div>\n",
              "<style scoped>\n",
              "    .dataframe tbody tr th:only-of-type {\n",
              "        vertical-align: middle;\n",
              "    }\n",
              "\n",
              "    .dataframe tbody tr th {\n",
              "        vertical-align: top;\n",
              "    }\n",
              "\n",
              "    .dataframe thead th {\n",
              "        text-align: right;\n",
              "    }\n",
              "</style>\n",
              "<table border=\"1\" class=\"dataframe\">\n",
              "  <thead>\n",
              "    <tr style=\"text-align: right;\">\n",
              "      <th></th>\n",
              "      <th>Name</th>\n",
              "      <th>Age</th>\n",
              "      <th>Salary</th>\n",
              "      <th>Department</th>\n",
              "    </tr>\n",
              "  </thead>\n",
              "  <tbody>\n",
              "    <tr>\n",
              "      <th>0</th>\n",
              "      <td>NaN</td>\n",
              "      <td>25.0</td>\n",
              "      <td>50000.0</td>\n",
              "      <td>HR</td>\n",
              "    </tr>\n",
              "    <tr>\n",
              "      <th>1</th>\n",
              "      <td>&lt;NA&gt;</td>\n",
              "      <td>30.0</td>\n",
              "      <td>NaN</td>\n",
              "      <td>Tech</td>\n",
              "    </tr>\n",
              "    <tr>\n",
              "      <th>2</th>\n",
              "      <td>NaT</td>\n",
              "      <td>NaN</td>\n",
              "      <td>70000.0</td>\n",
              "      <td>Tech</td>\n",
              "    </tr>\n",
              "    <tr>\n",
              "      <th>3</th>\n",
              "      <td>None</td>\n",
              "      <td>22.0</td>\n",
              "      <td>60000.0</td>\n",
              "      <td>None</td>\n",
              "    </tr>\n",
              "  </tbody>\n",
              "</table>\n",
              "</div>\n",
              "    <div class=\"colab-df-buttons\">\n",
              "\n",
              "  <div class=\"colab-df-container\">\n",
              "    <button class=\"colab-df-convert\" onclick=\"convertToInteractive('df-46772b5f-fdf9-420c-9e58-a43ff86fc0b5')\"\n",
              "            title=\"Convert this dataframe to an interactive table.\"\n",
              "            style=\"display:none;\">\n",
              "\n",
              "  <svg xmlns=\"http://www.w3.org/2000/svg\" height=\"24px\" viewBox=\"0 -960 960 960\">\n",
              "    <path d=\"M120-120v-720h720v720H120Zm60-500h600v-160H180v160Zm220 220h160v-160H400v160Zm0 220h160v-160H400v160ZM180-400h160v-160H180v160Zm440 0h160v-160H620v160ZM180-180h160v-160H180v160Zm440 0h160v-160H620v160Z\"/>\n",
              "  </svg>\n",
              "    </button>\n",
              "\n",
              "  <style>\n",
              "    .colab-df-container {\n",
              "      display:flex;\n",
              "      gap: 12px;\n",
              "    }\n",
              "\n",
              "    .colab-df-convert {\n",
              "      background-color: #E8F0FE;\n",
              "      border: none;\n",
              "      border-radius: 50%;\n",
              "      cursor: pointer;\n",
              "      display: none;\n",
              "      fill: #1967D2;\n",
              "      height: 32px;\n",
              "      padding: 0 0 0 0;\n",
              "      width: 32px;\n",
              "    }\n",
              "\n",
              "    .colab-df-convert:hover {\n",
              "      background-color: #E2EBFA;\n",
              "      box-shadow: 0px 1px 2px rgba(60, 64, 67, 0.3), 0px 1px 3px 1px rgba(60, 64, 67, 0.15);\n",
              "      fill: #174EA6;\n",
              "    }\n",
              "\n",
              "    .colab-df-buttons div {\n",
              "      margin-bottom: 4px;\n",
              "    }\n",
              "\n",
              "    [theme=dark] .colab-df-convert {\n",
              "      background-color: #3B4455;\n",
              "      fill: #D2E3FC;\n",
              "    }\n",
              "\n",
              "    [theme=dark] .colab-df-convert:hover {\n",
              "      background-color: #434B5C;\n",
              "      box-shadow: 0px 1px 3px 1px rgba(0, 0, 0, 0.15);\n",
              "      filter: drop-shadow(0px 1px 2px rgba(0, 0, 0, 0.3));\n",
              "      fill: #FFFFFF;\n",
              "    }\n",
              "  </style>\n",
              "\n",
              "    <script>\n",
              "      const buttonEl =\n",
              "        document.querySelector('#df-46772b5f-fdf9-420c-9e58-a43ff86fc0b5 button.colab-df-convert');\n",
              "      buttonEl.style.display =\n",
              "        google.colab.kernel.accessAllowed ? 'block' : 'none';\n",
              "\n",
              "      async function convertToInteractive(key) {\n",
              "        const element = document.querySelector('#df-46772b5f-fdf9-420c-9e58-a43ff86fc0b5');\n",
              "        const dataTable =\n",
              "          await google.colab.kernel.invokeFunction('convertToInteractive',\n",
              "                                                    [key], {});\n",
              "        if (!dataTable) return;\n",
              "\n",
              "        const docLinkHtml = 'Like what you see? Visit the ' +\n",
              "          '<a target=\"_blank\" href=https://colab.research.google.com/notebooks/data_table.ipynb>data table notebook</a>'\n",
              "          + ' to learn more about interactive tables.';\n",
              "        element.innerHTML = '';\n",
              "        dataTable['output_type'] = 'display_data';\n",
              "        await google.colab.output.renderOutput(dataTable, element);\n",
              "        const docLink = document.createElement('div');\n",
              "        docLink.innerHTML = docLinkHtml;\n",
              "        element.appendChild(docLink);\n",
              "      }\n",
              "    </script>\n",
              "  </div>\n",
              "\n",
              "\n",
              "<div id=\"df-f8419643-cf37-4ed5-b63f-869f0a911264\">\n",
              "  <button class=\"colab-df-quickchart\" onclick=\"quickchart('df-f8419643-cf37-4ed5-b63f-869f0a911264')\"\n",
              "            title=\"Suggest charts\"\n",
              "            style=\"display:none;\">\n",
              "\n",
              "<svg xmlns=\"http://www.w3.org/2000/svg\" height=\"24px\"viewBox=\"0 0 24 24\"\n",
              "     width=\"24px\">\n",
              "    <g>\n",
              "        <path d=\"M19 3H5c-1.1 0-2 .9-2 2v14c0 1.1.9 2 2 2h14c1.1 0 2-.9 2-2V5c0-1.1-.9-2-2-2zM9 17H7v-7h2v7zm4 0h-2V7h2v10zm4 0h-2v-4h2v4z\"/>\n",
              "    </g>\n",
              "</svg>\n",
              "  </button>\n",
              "\n",
              "<style>\n",
              "  .colab-df-quickchart {\n",
              "      --bg-color: #E8F0FE;\n",
              "      --fill-color: #1967D2;\n",
              "      --hover-bg-color: #E2EBFA;\n",
              "      --hover-fill-color: #174EA6;\n",
              "      --disabled-fill-color: #AAA;\n",
              "      --disabled-bg-color: #DDD;\n",
              "  }\n",
              "\n",
              "  [theme=dark] .colab-df-quickchart {\n",
              "      --bg-color: #3B4455;\n",
              "      --fill-color: #D2E3FC;\n",
              "      --hover-bg-color: #434B5C;\n",
              "      --hover-fill-color: #FFFFFF;\n",
              "      --disabled-bg-color: #3B4455;\n",
              "      --disabled-fill-color: #666;\n",
              "  }\n",
              "\n",
              "  .colab-df-quickchart {\n",
              "    background-color: var(--bg-color);\n",
              "    border: none;\n",
              "    border-radius: 50%;\n",
              "    cursor: pointer;\n",
              "    display: none;\n",
              "    fill: var(--fill-color);\n",
              "    height: 32px;\n",
              "    padding: 0;\n",
              "    width: 32px;\n",
              "  }\n",
              "\n",
              "  .colab-df-quickchart:hover {\n",
              "    background-color: var(--hover-bg-color);\n",
              "    box-shadow: 0 1px 2px rgba(60, 64, 67, 0.3), 0 1px 3px 1px rgba(60, 64, 67, 0.15);\n",
              "    fill: var(--button-hover-fill-color);\n",
              "  }\n",
              "\n",
              "  .colab-df-quickchart-complete:disabled,\n",
              "  .colab-df-quickchart-complete:disabled:hover {\n",
              "    background-color: var(--disabled-bg-color);\n",
              "    fill: var(--disabled-fill-color);\n",
              "    box-shadow: none;\n",
              "  }\n",
              "\n",
              "  .colab-df-spinner {\n",
              "    border: 2px solid var(--fill-color);\n",
              "    border-color: transparent;\n",
              "    border-bottom-color: var(--fill-color);\n",
              "    animation:\n",
              "      spin 1s steps(1) infinite;\n",
              "  }\n",
              "\n",
              "  @keyframes spin {\n",
              "    0% {\n",
              "      border-color: transparent;\n",
              "      border-bottom-color: var(--fill-color);\n",
              "      border-left-color: var(--fill-color);\n",
              "    }\n",
              "    20% {\n",
              "      border-color: transparent;\n",
              "      border-left-color: var(--fill-color);\n",
              "      border-top-color: var(--fill-color);\n",
              "    }\n",
              "    30% {\n",
              "      border-color: transparent;\n",
              "      border-left-color: var(--fill-color);\n",
              "      border-top-color: var(--fill-color);\n",
              "      border-right-color: var(--fill-color);\n",
              "    }\n",
              "    40% {\n",
              "      border-color: transparent;\n",
              "      border-right-color: var(--fill-color);\n",
              "      border-top-color: var(--fill-color);\n",
              "    }\n",
              "    60% {\n",
              "      border-color: transparent;\n",
              "      border-right-color: var(--fill-color);\n",
              "    }\n",
              "    80% {\n",
              "      border-color: transparent;\n",
              "      border-right-color: var(--fill-color);\n",
              "      border-bottom-color: var(--fill-color);\n",
              "    }\n",
              "    90% {\n",
              "      border-color: transparent;\n",
              "      border-bottom-color: var(--fill-color);\n",
              "    }\n",
              "  }\n",
              "</style>\n",
              "\n",
              "  <script>\n",
              "    async function quickchart(key) {\n",
              "      const quickchartButtonEl =\n",
              "        document.querySelector('#' + key + ' button');\n",
              "      quickchartButtonEl.disabled = true;  // To prevent multiple clicks.\n",
              "      quickchartButtonEl.classList.add('colab-df-spinner');\n",
              "      try {\n",
              "        const charts = await google.colab.kernel.invokeFunction(\n",
              "            'suggestCharts', [key], {});\n",
              "      } catch (error) {\n",
              "        console.error('Error during call to suggestCharts:', error);\n",
              "      }\n",
              "      quickchartButtonEl.classList.remove('colab-df-spinner');\n",
              "      quickchartButtonEl.classList.add('colab-df-quickchart-complete');\n",
              "    }\n",
              "    (() => {\n",
              "      let quickchartButtonEl =\n",
              "        document.querySelector('#df-f8419643-cf37-4ed5-b63f-869f0a911264 button');\n",
              "      quickchartButtonEl.style.display =\n",
              "        google.colab.kernel.accessAllowed ? 'block' : 'none';\n",
              "    })();\n",
              "  </script>\n",
              "</div>\n",
              "    </div>\n",
              "  </div>\n"
            ],
            "text/plain": [
              "   Name   Age   Salary Department\n",
              "0   NaN  25.0  50000.0         HR\n",
              "1  <NA>  30.0      NaN       Tech\n",
              "2   NaT   NaN  70000.0       Tech\n",
              "3  None  22.0  60000.0       None"
            ]
          },
          "execution_count": 3,
          "metadata": {},
          "output_type": "execute_result"
        }
      ],
      "source": [
        "df"
      ]
    },
    {
      "cell_type": "code",
      "execution_count": null,
      "metadata": {
        "colab": {
          "base_uri": "https://localhost:8080/",
          "height": 175
        },
        "id": "HmbwSoj2UkYn",
        "outputId": "e5b62671-4125-4147-90b9-6f2915b7f406"
      },
      "outputs": [
        {
          "data": {
            "application/vnd.google.colaboratory.intrinsic+json": {
              "summary": "{\n  \"name\": \"df\",\n  \"rows\": 4,\n  \"fields\": [\n    {\n      \"column\": \"Name\",\n      \"properties\": {\n        \"dtype\": \"category\",\n        \"num_unique_values\": 1,\n        \"samples\": [\n          \"ya\"\n        ],\n        \"semantic_type\": \"\",\n        \"description\": \"\"\n      }\n    },\n    {\n      \"column\": \"Age\",\n      \"properties\": {\n        \"dtype\": \"string\",\n        \"num_unique_values\": 4,\n        \"samples\": [\n          30.0\n        ],\n        \"semantic_type\": \"\",\n        \"description\": \"\"\n      }\n    },\n    {\n      \"column\": \"Salary\",\n      \"properties\": {\n        \"dtype\": \"string\",\n        \"num_unique_values\": 4,\n        \"samples\": [\n          \"ya\"\n        ],\n        \"semantic_type\": \"\",\n        \"description\": \"\"\n      }\n    },\n    {\n      \"column\": \"Department\",\n      \"properties\": {\n        \"dtype\": \"string\",\n        \"num_unique_values\": 3,\n        \"samples\": [\n          \"HR\"\n        ],\n        \"semantic_type\": \"\",\n        \"description\": \"\"\n      }\n    }\n  ]\n}",
              "type": "dataframe"
            },
            "text/html": [
              "\n",
              "  <div id=\"df-f5b082fe-694b-415d-916b-dd443175e75f\" class=\"colab-df-container\">\n",
              "    <div>\n",
              "<style scoped>\n",
              "    .dataframe tbody tr th:only-of-type {\n",
              "        vertical-align: middle;\n",
              "    }\n",
              "\n",
              "    .dataframe tbody tr th {\n",
              "        vertical-align: top;\n",
              "    }\n",
              "\n",
              "    .dataframe thead th {\n",
              "        text-align: right;\n",
              "    }\n",
              "</style>\n",
              "<table border=\"1\" class=\"dataframe\">\n",
              "  <thead>\n",
              "    <tr style=\"text-align: right;\">\n",
              "      <th></th>\n",
              "      <th>Name</th>\n",
              "      <th>Age</th>\n",
              "      <th>Salary</th>\n",
              "      <th>Department</th>\n",
              "    </tr>\n",
              "  </thead>\n",
              "  <tbody>\n",
              "    <tr>\n",
              "      <th>0</th>\n",
              "      <td>ya</td>\n",
              "      <td>25.0</td>\n",
              "      <td>50000.0</td>\n",
              "      <td>HR</td>\n",
              "    </tr>\n",
              "    <tr>\n",
              "      <th>1</th>\n",
              "      <td>ya</td>\n",
              "      <td>30.0</td>\n",
              "      <td>ya</td>\n",
              "      <td>Tech</td>\n",
              "    </tr>\n",
              "    <tr>\n",
              "      <th>2</th>\n",
              "      <td>ya</td>\n",
              "      <td>ya</td>\n",
              "      <td>70000.0</td>\n",
              "      <td>Tech</td>\n",
              "    </tr>\n",
              "    <tr>\n",
              "      <th>3</th>\n",
              "      <td>ya</td>\n",
              "      <td>22.0</td>\n",
              "      <td>60000.0</td>\n",
              "      <td>ya</td>\n",
              "    </tr>\n",
              "  </tbody>\n",
              "</table>\n",
              "</div>\n",
              "    <div class=\"colab-df-buttons\">\n",
              "\n",
              "  <div class=\"colab-df-container\">\n",
              "    <button class=\"colab-df-convert\" onclick=\"convertToInteractive('df-f5b082fe-694b-415d-916b-dd443175e75f')\"\n",
              "            title=\"Convert this dataframe to an interactive table.\"\n",
              "            style=\"display:none;\">\n",
              "\n",
              "  <svg xmlns=\"http://www.w3.org/2000/svg\" height=\"24px\" viewBox=\"0 -960 960 960\">\n",
              "    <path d=\"M120-120v-720h720v720H120Zm60-500h600v-160H180v160Zm220 220h160v-160H400v160Zm0 220h160v-160H400v160ZM180-400h160v-160H180v160Zm440 0h160v-160H620v160ZM180-180h160v-160H180v160Zm440 0h160v-160H620v160Z\"/>\n",
              "  </svg>\n",
              "    </button>\n",
              "\n",
              "  <style>\n",
              "    .colab-df-container {\n",
              "      display:flex;\n",
              "      gap: 12px;\n",
              "    }\n",
              "\n",
              "    .colab-df-convert {\n",
              "      background-color: #E8F0FE;\n",
              "      border: none;\n",
              "      border-radius: 50%;\n",
              "      cursor: pointer;\n",
              "      display: none;\n",
              "      fill: #1967D2;\n",
              "      height: 32px;\n",
              "      padding: 0 0 0 0;\n",
              "      width: 32px;\n",
              "    }\n",
              "\n",
              "    .colab-df-convert:hover {\n",
              "      background-color: #E2EBFA;\n",
              "      box-shadow: 0px 1px 2px rgba(60, 64, 67, 0.3), 0px 1px 3px 1px rgba(60, 64, 67, 0.15);\n",
              "      fill: #174EA6;\n",
              "    }\n",
              "\n",
              "    .colab-df-buttons div {\n",
              "      margin-bottom: 4px;\n",
              "    }\n",
              "\n",
              "    [theme=dark] .colab-df-convert {\n",
              "      background-color: #3B4455;\n",
              "      fill: #D2E3FC;\n",
              "    }\n",
              "\n",
              "    [theme=dark] .colab-df-convert:hover {\n",
              "      background-color: #434B5C;\n",
              "      box-shadow: 0px 1px 3px 1px rgba(0, 0, 0, 0.15);\n",
              "      filter: drop-shadow(0px 1px 2px rgba(0, 0, 0, 0.3));\n",
              "      fill: #FFFFFF;\n",
              "    }\n",
              "  </style>\n",
              "\n",
              "    <script>\n",
              "      const buttonEl =\n",
              "        document.querySelector('#df-f5b082fe-694b-415d-916b-dd443175e75f button.colab-df-convert');\n",
              "      buttonEl.style.display =\n",
              "        google.colab.kernel.accessAllowed ? 'block' : 'none';\n",
              "\n",
              "      async function convertToInteractive(key) {\n",
              "        const element = document.querySelector('#df-f5b082fe-694b-415d-916b-dd443175e75f');\n",
              "        const dataTable =\n",
              "          await google.colab.kernel.invokeFunction('convertToInteractive',\n",
              "                                                    [key], {});\n",
              "        if (!dataTable) return;\n",
              "\n",
              "        const docLinkHtml = 'Like what you see? Visit the ' +\n",
              "          '<a target=\"_blank\" href=https://colab.research.google.com/notebooks/data_table.ipynb>data table notebook</a>'\n",
              "          + ' to learn more about interactive tables.';\n",
              "        element.innerHTML = '';\n",
              "        dataTable['output_type'] = 'display_data';\n",
              "        await google.colab.output.renderOutput(dataTable, element);\n",
              "        const docLink = document.createElement('div');\n",
              "        docLink.innerHTML = docLinkHtml;\n",
              "        element.appendChild(docLink);\n",
              "      }\n",
              "    </script>\n",
              "  </div>\n",
              "\n",
              "\n",
              "<div id=\"df-fc55fc36-65e5-4654-acd2-fa34a12c3eae\">\n",
              "  <button class=\"colab-df-quickchart\" onclick=\"quickchart('df-fc55fc36-65e5-4654-acd2-fa34a12c3eae')\"\n",
              "            title=\"Suggest charts\"\n",
              "            style=\"display:none;\">\n",
              "\n",
              "<svg xmlns=\"http://www.w3.org/2000/svg\" height=\"24px\"viewBox=\"0 0 24 24\"\n",
              "     width=\"24px\">\n",
              "    <g>\n",
              "        <path d=\"M19 3H5c-1.1 0-2 .9-2 2v14c0 1.1.9 2 2 2h14c1.1 0 2-.9 2-2V5c0-1.1-.9-2-2-2zM9 17H7v-7h2v7zm4 0h-2V7h2v10zm4 0h-2v-4h2v4z\"/>\n",
              "    </g>\n",
              "</svg>\n",
              "  </button>\n",
              "\n",
              "<style>\n",
              "  .colab-df-quickchart {\n",
              "      --bg-color: #E8F0FE;\n",
              "      --fill-color: #1967D2;\n",
              "      --hover-bg-color: #E2EBFA;\n",
              "      --hover-fill-color: #174EA6;\n",
              "      --disabled-fill-color: #AAA;\n",
              "      --disabled-bg-color: #DDD;\n",
              "  }\n",
              "\n",
              "  [theme=dark] .colab-df-quickchart {\n",
              "      --bg-color: #3B4455;\n",
              "      --fill-color: #D2E3FC;\n",
              "      --hover-bg-color: #434B5C;\n",
              "      --hover-fill-color: #FFFFFF;\n",
              "      --disabled-bg-color: #3B4455;\n",
              "      --disabled-fill-color: #666;\n",
              "  }\n",
              "\n",
              "  .colab-df-quickchart {\n",
              "    background-color: var(--bg-color);\n",
              "    border: none;\n",
              "    border-radius: 50%;\n",
              "    cursor: pointer;\n",
              "    display: none;\n",
              "    fill: var(--fill-color);\n",
              "    height: 32px;\n",
              "    padding: 0;\n",
              "    width: 32px;\n",
              "  }\n",
              "\n",
              "  .colab-df-quickchart:hover {\n",
              "    background-color: var(--hover-bg-color);\n",
              "    box-shadow: 0 1px 2px rgba(60, 64, 67, 0.3), 0 1px 3px 1px rgba(60, 64, 67, 0.15);\n",
              "    fill: var(--button-hover-fill-color);\n",
              "  }\n",
              "\n",
              "  .colab-df-quickchart-complete:disabled,\n",
              "  .colab-df-quickchart-complete:disabled:hover {\n",
              "    background-color: var(--disabled-bg-color);\n",
              "    fill: var(--disabled-fill-color);\n",
              "    box-shadow: none;\n",
              "  }\n",
              "\n",
              "  .colab-df-spinner {\n",
              "    border: 2px solid var(--fill-color);\n",
              "    border-color: transparent;\n",
              "    border-bottom-color: var(--fill-color);\n",
              "    animation:\n",
              "      spin 1s steps(1) infinite;\n",
              "  }\n",
              "\n",
              "  @keyframes spin {\n",
              "    0% {\n",
              "      border-color: transparent;\n",
              "      border-bottom-color: var(--fill-color);\n",
              "      border-left-color: var(--fill-color);\n",
              "    }\n",
              "    20% {\n",
              "      border-color: transparent;\n",
              "      border-left-color: var(--fill-color);\n",
              "      border-top-color: var(--fill-color);\n",
              "    }\n",
              "    30% {\n",
              "      border-color: transparent;\n",
              "      border-left-color: var(--fill-color);\n",
              "      border-top-color: var(--fill-color);\n",
              "      border-right-color: var(--fill-color);\n",
              "    }\n",
              "    40% {\n",
              "      border-color: transparent;\n",
              "      border-right-color: var(--fill-color);\n",
              "      border-top-color: var(--fill-color);\n",
              "    }\n",
              "    60% {\n",
              "      border-color: transparent;\n",
              "      border-right-color: var(--fill-color);\n",
              "    }\n",
              "    80% {\n",
              "      border-color: transparent;\n",
              "      border-right-color: var(--fill-color);\n",
              "      border-bottom-color: var(--fill-color);\n",
              "    }\n",
              "    90% {\n",
              "      border-color: transparent;\n",
              "      border-bottom-color: var(--fill-color);\n",
              "    }\n",
              "  }\n",
              "</style>\n",
              "\n",
              "  <script>\n",
              "    async function quickchart(key) {\n",
              "      const quickchartButtonEl =\n",
              "        document.querySelector('#' + key + ' button');\n",
              "      quickchartButtonEl.disabled = true;  // To prevent multiple clicks.\n",
              "      quickchartButtonEl.classList.add('colab-df-spinner');\n",
              "      try {\n",
              "        const charts = await google.colab.kernel.invokeFunction(\n",
              "            'suggestCharts', [key], {});\n",
              "      } catch (error) {\n",
              "        console.error('Error during call to suggestCharts:', error);\n",
              "      }\n",
              "      quickchartButtonEl.classList.remove('colab-df-spinner');\n",
              "      quickchartButtonEl.classList.add('colab-df-quickchart-complete');\n",
              "    }\n",
              "    (() => {\n",
              "      let quickchartButtonEl =\n",
              "        document.querySelector('#df-fc55fc36-65e5-4654-acd2-fa34a12c3eae button');\n",
              "      quickchartButtonEl.style.display =\n",
              "        google.colab.kernel.accessAllowed ? 'block' : 'none';\n",
              "    })();\n",
              "  </script>\n",
              "</div>\n",
              "    </div>\n",
              "  </div>\n"
            ],
            "text/plain": [
              "  Name   Age   Salary Department\n",
              "0   ya  25.0  50000.0         HR\n",
              "1   ya  30.0       ya       Tech\n",
              "2   ya    ya  70000.0       Tech\n",
              "3   ya  22.0  60000.0         ya"
            ]
          },
          "execution_count": 4,
          "metadata": {},
          "output_type": "execute_result"
        }
      ],
      "source": [
        "df.fillna('ya')"
      ]
    },
    {
      "cell_type": "code",
      "execution_count": null,
      "metadata": {
        "id": "pHVnI-PmVd0B"
      },
      "outputs": [],
      "source": [
        "a = (1, 2, 3)\n",
        "b = (4, 5, 6)"
      ]
    },
    {
      "cell_type": "code",
      "source": [
        "c = zip(a, b)"
      ],
      "metadata": {
        "id": "GFII5vfrcZ-2"
      },
      "execution_count": null,
      "outputs": []
    },
    {
      "cell_type": "code",
      "source": [
        "c"
      ],
      "metadata": {
        "colab": {
          "base_uri": "https://localhost:8080/"
        },
        "id": "7WFqLsEocdbl",
        "outputId": "b280581c-4b77-4ae3-bcd2-6651e278ab70"
      },
      "execution_count": null,
      "outputs": [
        {
          "output_type": "execute_result",
          "data": {
            "text/plain": [
              "<zip at 0x7cc917bace40>"
            ]
          },
          "metadata": {},
          "execution_count": 10
        }
      ]
    },
    {
      "cell_type": "code",
      "source": [
        "type(c)"
      ],
      "metadata": {
        "colab": {
          "base_uri": "https://localhost:8080/"
        },
        "id": "yyi7owyCcd3l",
        "outputId": "0e62aece-63f4-4aa7-ee0f-81f10d796743"
      },
      "execution_count": null,
      "outputs": [
        {
          "output_type": "execute_result",
          "data": {
            "text/plain": [
              "zip"
            ]
          },
          "metadata": {},
          "execution_count": 11
        }
      ]
    },
    {
      "cell_type": "code",
      "source": [
        "c"
      ],
      "metadata": {
        "colab": {
          "base_uri": "https://localhost:8080/"
        },
        "id": "xt8jP4uwcfq9",
        "outputId": "dbe592c3-ae2b-4e25-e3bf-3e50df18c4bf"
      },
      "execution_count": null,
      "outputs": [
        {
          "output_type": "execute_result",
          "data": {
            "text/plain": [
              "<zip at 0x7cc917bace40>"
            ]
          },
          "metadata": {},
          "execution_count": 12
        }
      ]
    },
    {
      "cell_type": "code",
      "source": [
        "print(c)"
      ],
      "metadata": {
        "colab": {
          "base_uri": "https://localhost:8080/"
        },
        "id": "XX6taemGcgbt",
        "outputId": "fe316363-14be-4e05-82e9-891c8941fa92"
      },
      "execution_count": null,
      "outputs": [
        {
          "output_type": "stream",
          "name": "stdout",
          "text": [
            "<zip object at 0x7cc917bace40>\n"
          ]
        }
      ]
    },
    {
      "cell_type": "code",
      "source": [
        "print(list(c))"
      ],
      "metadata": {
        "colab": {
          "base_uri": "https://localhost:8080/"
        },
        "id": "4UKepxiAchdF",
        "outputId": "62aa3f88-3b05-4955-ea63-14c3d1b38ff4"
      },
      "execution_count": null,
      "outputs": [
        {
          "output_type": "stream",
          "name": "stdout",
          "text": [
            "[(1, 4), (2, 5), (3, 6)]\n"
          ]
        }
      ]
    },
    {
      "cell_type": "code",
      "source": [
        "import numpy as np"
      ],
      "metadata": {
        "id": "MFBC-rWpc3il"
      },
      "execution_count": null,
      "outputs": []
    },
    {
      "cell_type": "code",
      "source": [
        "a = np.arange(10)"
      ],
      "metadata": {
        "id": "4C5Yeuc4dGMN"
      },
      "execution_count": null,
      "outputs": []
    },
    {
      "cell_type": "code",
      "source": [
        "a"
      ],
      "metadata": {
        "colab": {
          "base_uri": "https://localhost:8080/"
        },
        "id": "hg04lthHdIqN",
        "outputId": "19524abc-9fe1-4517-8897-63f998c30036"
      },
      "execution_count": null,
      "outputs": [
        {
          "output_type": "execute_result",
          "data": {
            "text/plain": [
              "array([0, 1, 2, 3, 4, 5, 6, 7, 8, 9])"
            ]
          },
          "metadata": {},
          "execution_count": 28
        }
      ]
    },
    {
      "cell_type": "code",
      "source": [
        "type(a)"
      ],
      "metadata": {
        "colab": {
          "base_uri": "https://localhost:8080/"
        },
        "id": "p-tEhpTxdOA9",
        "outputId": "8ef9324f-c096-4fc7-d27b-7a123bd540c6"
      },
      "execution_count": null,
      "outputs": [
        {
          "output_type": "execute_result",
          "data": {
            "text/plain": [
              "numpy.ndarray"
            ]
          },
          "metadata": {},
          "execution_count": 29
        }
      ]
    },
    {
      "cell_type": "code",
      "source": [
        "dir(a)"
      ],
      "metadata": {
        "colab": {
          "base_uri": "https://localhost:8080/"
        },
        "id": "AMCWdi4bsnsz",
        "outputId": "4483ab58-e930-4c22-c32b-ccd06c01a5ad"
      },
      "execution_count": null,
      "outputs": [
        {
          "output_type": "execute_result",
          "data": {
            "text/plain": [
              "['T',\n",
              " '__abs__',\n",
              " '__add__',\n",
              " '__and__',\n",
              " '__array__',\n",
              " '__array_finalize__',\n",
              " '__array_function__',\n",
              " '__array_interface__',\n",
              " '__array_namespace__',\n",
              " '__array_priority__',\n",
              " '__array_struct__',\n",
              " '__array_ufunc__',\n",
              " '__array_wrap__',\n",
              " '__bool__',\n",
              " '__buffer__',\n",
              " '__class__',\n",
              " '__class_getitem__',\n",
              " '__complex__',\n",
              " '__contains__',\n",
              " '__copy__',\n",
              " '__deepcopy__',\n",
              " '__delattr__',\n",
              " '__delitem__',\n",
              " '__dir__',\n",
              " '__divmod__',\n",
              " '__dlpack__',\n",
              " '__dlpack_device__',\n",
              " '__doc__',\n",
              " '__eq__',\n",
              " '__float__',\n",
              " '__floordiv__',\n",
              " '__format__',\n",
              " '__ge__',\n",
              " '__getattribute__',\n",
              " '__getitem__',\n",
              " '__getstate__',\n",
              " '__gt__',\n",
              " '__hash__',\n",
              " '__iadd__',\n",
              " '__iand__',\n",
              " '__ifloordiv__',\n",
              " '__ilshift__',\n",
              " '__imatmul__',\n",
              " '__imod__',\n",
              " '__imul__',\n",
              " '__index__',\n",
              " '__init__',\n",
              " '__init_subclass__',\n",
              " '__int__',\n",
              " '__invert__',\n",
              " '__ior__',\n",
              " '__ipow__',\n",
              " '__irshift__',\n",
              " '__isub__',\n",
              " '__iter__',\n",
              " '__itruediv__',\n",
              " '__ixor__',\n",
              " '__le__',\n",
              " '__len__',\n",
              " '__lshift__',\n",
              " '__lt__',\n",
              " '__matmul__',\n",
              " '__mod__',\n",
              " '__mul__',\n",
              " '__ne__',\n",
              " '__neg__',\n",
              " '__new__',\n",
              " '__or__',\n",
              " '__pos__',\n",
              " '__pow__',\n",
              " '__radd__',\n",
              " '__rand__',\n",
              " '__rdivmod__',\n",
              " '__reduce__',\n",
              " '__reduce_ex__',\n",
              " '__repr__',\n",
              " '__rfloordiv__',\n",
              " '__rlshift__',\n",
              " '__rmatmul__',\n",
              " '__rmod__',\n",
              " '__rmul__',\n",
              " '__ror__',\n",
              " '__rpow__',\n",
              " '__rrshift__',\n",
              " '__rshift__',\n",
              " '__rsub__',\n",
              " '__rtruediv__',\n",
              " '__rxor__',\n",
              " '__setattr__',\n",
              " '__setitem__',\n",
              " '__setstate__',\n",
              " '__sizeof__',\n",
              " '__str__',\n",
              " '__sub__',\n",
              " '__subclasshook__',\n",
              " '__truediv__',\n",
              " '__xor__',\n",
              " 'all',\n",
              " 'any',\n",
              " 'argmax',\n",
              " 'argmin',\n",
              " 'argpartition',\n",
              " 'argsort',\n",
              " 'astype',\n",
              " 'base',\n",
              " 'byteswap',\n",
              " 'choose',\n",
              " 'clip',\n",
              " 'compress',\n",
              " 'conj',\n",
              " 'conjugate',\n",
              " 'copy',\n",
              " 'ctypes',\n",
              " 'cumprod',\n",
              " 'cumsum',\n",
              " 'data',\n",
              " 'device',\n",
              " 'diagonal',\n",
              " 'dot',\n",
              " 'dtype',\n",
              " 'dump',\n",
              " 'dumps',\n",
              " 'fill',\n",
              " 'flags',\n",
              " 'flat',\n",
              " 'flatten',\n",
              " 'getfield',\n",
              " 'imag',\n",
              " 'item',\n",
              " 'itemset',\n",
              " 'itemsize',\n",
              " 'mT',\n",
              " 'max',\n",
              " 'mean',\n",
              " 'min',\n",
              " 'nbytes',\n",
              " 'ndim',\n",
              " 'newbyteorder',\n",
              " 'nonzero',\n",
              " 'partition',\n",
              " 'prod',\n",
              " 'ptp',\n",
              " 'put',\n",
              " 'ravel',\n",
              " 'real',\n",
              " 'repeat',\n",
              " 'reshape',\n",
              " 'resize',\n",
              " 'round',\n",
              " 'searchsorted',\n",
              " 'setfield',\n",
              " 'setflags',\n",
              " 'shape',\n",
              " 'size',\n",
              " 'sort',\n",
              " 'squeeze',\n",
              " 'std',\n",
              " 'strides',\n",
              " 'sum',\n",
              " 'swapaxes',\n",
              " 'take',\n",
              " 'to_device',\n",
              " 'tobytes',\n",
              " 'tofile',\n",
              " 'tolist',\n",
              " 'tostring',\n",
              " 'trace',\n",
              " 'transpose',\n",
              " 'var',\n",
              " 'view']"
            ]
          },
          "metadata": {},
          "execution_count": 30
        }
      ]
    },
    {
      "cell_type": "code",
      "source": [
        "np.__version__"
      ],
      "metadata": {
        "colab": {
          "base_uri": "https://localhost:8080/",
          "height": 36
        },
        "id": "Ah-DMNjodSGt",
        "outputId": "f86335d9-4138-4cf7-c980-17b65520ecea"
      },
      "execution_count": null,
      "outputs": [
        {
          "output_type": "execute_result",
          "data": {
            "text/plain": [
              "'2.0.2'"
            ],
            "application/vnd.google.colaboratory.intrinsic+json": {
              "type": "string"
            }
          },
          "metadata": {},
          "execution_count": 21
        }
      ]
    },
    {
      "cell_type": "code",
      "source": [
        "a"
      ],
      "metadata": {
        "colab": {
          "base_uri": "https://localhost:8080/"
        },
        "id": "LIUvjGDZf-w8",
        "outputId": "d66eb73f-2c95-46ba-8635-6266986c0d10"
      },
      "execution_count": null,
      "outputs": [
        {
          "output_type": "execute_result",
          "data": {
            "text/plain": [
              "array([0, 1, 2, 3, 4, 5, 6, 7, 8, 9])"
            ]
          },
          "metadata": {},
          "execution_count": 22
        }
      ]
    },
    {
      "cell_type": "code",
      "source": [
        "a = [1, 2, 3]"
      ],
      "metadata": {
        "id": "PxxXKJUprxwV"
      },
      "execution_count": null,
      "outputs": []
    },
    {
      "cell_type": "code",
      "source": [
        "type(a)"
      ],
      "metadata": {
        "colab": {
          "base_uri": "https://localhost:8080/"
        },
        "id": "ILPaXarZr0ld",
        "outputId": "2587dd70-bd2f-4839-a798-e14e4ee5ae30"
      },
      "execution_count": null,
      "outputs": [
        {
          "output_type": "execute_result",
          "data": {
            "text/plain": [
              "list"
            ]
          },
          "metadata": {},
          "execution_count": 25
        }
      ]
    },
    {
      "cell_type": "code",
      "source": [
        "dir(a)"
      ],
      "metadata": {
        "colab": {
          "base_uri": "https://localhost:8080/"
        },
        "id": "LD9whX9Nr1LN",
        "outputId": "59a0ed36-b2dc-432d-9f91-c1e435aad88f"
      },
      "execution_count": null,
      "outputs": [
        {
          "output_type": "execute_result",
          "data": {
            "text/plain": [
              "['__add__',\n",
              " '__class__',\n",
              " '__class_getitem__',\n",
              " '__contains__',\n",
              " '__delattr__',\n",
              " '__delitem__',\n",
              " '__dir__',\n",
              " '__doc__',\n",
              " '__eq__',\n",
              " '__format__',\n",
              " '__ge__',\n",
              " '__getattribute__',\n",
              " '__getitem__',\n",
              " '__getstate__',\n",
              " '__gt__',\n",
              " '__hash__',\n",
              " '__iadd__',\n",
              " '__imul__',\n",
              " '__init__',\n",
              " '__init_subclass__',\n",
              " '__iter__',\n",
              " '__le__',\n",
              " '__len__',\n",
              " '__lt__',\n",
              " '__mul__',\n",
              " '__ne__',\n",
              " '__new__',\n",
              " '__reduce__',\n",
              " '__reduce_ex__',\n",
              " '__repr__',\n",
              " '__reversed__',\n",
              " '__rmul__',\n",
              " '__setattr__',\n",
              " '__setitem__',\n",
              " '__sizeof__',\n",
              " '__str__',\n",
              " '__subclasshook__',\n",
              " 'append',\n",
              " 'clear',\n",
              " 'copy',\n",
              " 'count',\n",
              " 'extend',\n",
              " 'index',\n",
              " 'insert',\n",
              " 'pop',\n",
              " 'remove',\n",
              " 'reverse',\n",
              " 'sort']"
            ]
          },
          "metadata": {},
          "execution_count": 26
        }
      ]
    },
    {
      "cell_type": "code",
      "source": [
        "np.array((15))"
      ],
      "metadata": {
        "colab": {
          "base_uri": "https://localhost:8080/"
        },
        "id": "C7JdJAZbzWvL",
        "outputId": "a2a9939f-87c9-4a2b-c197-8f79f7dd76ad"
      },
      "execution_count": null,
      "outputs": [
        {
          "output_type": "execute_result",
          "data": {
            "text/plain": [
              "array(15)"
            ]
          },
          "metadata": {},
          "execution_count": 39
        }
      ]
    },
    {
      "cell_type": "code",
      "source": [
        "a.shape"
      ],
      "metadata": {
        "colab": {
          "base_uri": "https://localhost:8080/"
        },
        "id": "Q4kCCszbzcma",
        "outputId": "d438a485-394f-44c5-f352-f20f0519b3f8"
      },
      "execution_count": null,
      "outputs": [
        {
          "output_type": "execute_result",
          "data": {
            "text/plain": [
              "(2,)"
            ]
          },
          "metadata": {},
          "execution_count": 37
        }
      ]
    },
    {
      "cell_type": "code",
      "source": [
        "iter(5)"
      ],
      "metadata": {
        "colab": {
          "base_uri": "https://localhost:8080/",
          "height": 150
        },
        "id": "PZ90JSKd0YSK",
        "outputId": "1bef3c3c-c9c1-4e90-a93f-b51bc27bf0f1"
      },
      "execution_count": null,
      "outputs": [
        {
          "output_type": "error",
          "ename": "TypeError",
          "evalue": "'int' object is not iterable",
          "traceback": [
            "\u001b[0;31m---------------------------------------------------------------------------\u001b[0m",
            "\u001b[0;31mTypeError\u001b[0m                                 Traceback (most recent call last)",
            "\u001b[0;32m/tmp/ipython-input-709780779.py\u001b[0m in \u001b[0;36m<cell line: 0>\u001b[0;34m()\u001b[0m\n\u001b[0;32m----> 1\u001b[0;31m \u001b[0miter\u001b[0m\u001b[0;34m(\u001b[0m\u001b[0;36m5\u001b[0m\u001b[0;34m)\u001b[0m\u001b[0;34m\u001b[0m\u001b[0;34m\u001b[0m\u001b[0m\n\u001b[0m",
            "\u001b[0;31mTypeError\u001b[0m: 'int' object is not iterable"
          ]
        }
      ]
    },
    {
      "cell_type": "code",
      "source": [
        "np.array([1, 2, 'hi'])"
      ],
      "metadata": {
        "colab": {
          "base_uri": "https://localhost:8080/"
        },
        "id": "EUQU5IDr2lnz",
        "outputId": "224933a4-7170-41b8-f5c5-4ca3e11b51cf"
      },
      "execution_count": null,
      "outputs": [
        {
          "output_type": "execute_result",
          "data": {
            "text/plain": [
              "array(['1', '2', 'hi'], dtype='<U21')"
            ]
          },
          "metadata": {},
          "execution_count": 52
        }
      ]
    },
    {
      "cell_type": "code",
      "source": [
        "a = np.array([1, 1.4])\n",
        "print(a.dtype, a)\n",
        "\n",
        "a = np.array([1, 2.7, 5+2j])\n",
        "print(a.dtype, a)\n",
        "\n",
        "a = np.array([1, 2.7, 5+2j, 'hi'])\n",
        "print(a.dtype, a)\n",
        "\n",
        "a = np.array([True, 89])\n",
        "print(a.dtype, a)\n",
        "\n",
        "a = np.array([1, None])\n",
        "print(a.dtype, a)\n",
        "\n"
      ],
      "metadata": {
        "colab": {
          "base_uri": "https://localhost:8080/"
        },
        "id": "MOHki8Wq89M8",
        "outputId": "a41ece47-ca72-4af7-defd-df2b71021c80"
      },
      "execution_count": null,
      "outputs": [
        {
          "output_type": "stream",
          "name": "stdout",
          "text": [
            "float64 [1.  1.4]\n",
            "complex128 [1. +0.j 2.7+0.j 5. +2.j]\n",
            "<U64 ['1' '2.7' '(5+2j)' 'hi']\n",
            "int64 [ 1 89]\n",
            "object [1 None]\n"
          ]
        }
      ]
    },
    {
      "cell_type": "code",
      "source": [
        "a.dtype"
      ],
      "metadata": {
        "colab": {
          "base_uri": "https://localhost:8080/"
        },
        "id": "b2qQhIbu-zw3",
        "outputId": "19c138b2-6e7e-49fa-c19c-12a1cded04ae"
      },
      "execution_count": null,
      "outputs": [
        {
          "output_type": "execute_result",
          "data": {
            "text/plain": [
              "dtype('float64')"
            ]
          },
          "metadata": {},
          "execution_count": 56
        }
      ]
    },
    {
      "cell_type": "code",
      "source": [
        "z = 5+3j"
      ],
      "metadata": {
        "id": "e_P2jZYh_lzo"
      },
      "execution_count": null,
      "outputs": []
    },
    {
      "cell_type": "code",
      "source": [
        "type(z)"
      ],
      "metadata": {
        "colab": {
          "base_uri": "https://localhost:8080/"
        },
        "id": "Xd515KSKApMB",
        "outputId": "bff8eb49-a41b-4170-c238-e9b148409c96"
      },
      "execution_count": null,
      "outputs": [
        {
          "output_type": "execute_result",
          "data": {
            "text/plain": [
              "complex"
            ]
          },
          "metadata": {},
          "execution_count": 58
        }
      ]
    },
    {
      "cell_type": "code",
      "source": [
        "class P():\n",
        "  def __array__(self):\n",
        "    print('yo')"
      ],
      "metadata": {
        "id": "DiGSCVEMAqUY"
      },
      "execution_count": null,
      "outputs": []
    },
    {
      "cell_type": "code",
      "source": [
        "p1 = P()"
      ],
      "metadata": {
        "id": "LwPSP0l46Fsh"
      },
      "execution_count": null,
      "outputs": []
    },
    {
      "cell_type": "code",
      "source": [
        "type(p1)"
      ],
      "metadata": {
        "colab": {
          "base_uri": "https://localhost:8080/"
        },
        "id": "T8eq8Gvs6JNQ",
        "outputId": "14716e7d-442f-40e1-9584-8b56b6e3e9e9"
      },
      "execution_count": null,
      "outputs": [
        {
          "output_type": "execute_result",
          "data": {
            "text/plain": [
              "__main__.P"
            ]
          },
          "metadata": {},
          "execution_count": 3
        }
      ]
    },
    {
      "cell_type": "code",
      "source": [
        "p1.__array__()"
      ],
      "metadata": {
        "colab": {
          "base_uri": "https://localhost:8080/",
          "height": 150
        },
        "id": "2VrGibgz6K4A",
        "outputId": "d29c25b8-a4e3-4c3a-d047-d097abd4ce5c"
      },
      "execution_count": null,
      "outputs": [
        {
          "output_type": "error",
          "ename": "TypeError",
          "evalue": "P.__array__() takes 0 positional arguments but 1 was given",
          "traceback": [
            "\u001b[0;31m---------------------------------------------------------------------------\u001b[0m",
            "\u001b[0;31mTypeError\u001b[0m                                 Traceback (most recent call last)",
            "\u001b[0;32m/tmp/ipython-input-1753848997.py\u001b[0m in \u001b[0;36m<cell line: 0>\u001b[0;34m()\u001b[0m\n\u001b[0;32m----> 1\u001b[0;31m \u001b[0mp1\u001b[0m\u001b[0;34m.\u001b[0m\u001b[0m__array__\u001b[0m\u001b[0;34m(\u001b[0m\u001b[0;34m)\u001b[0m\u001b[0;34m\u001b[0m\u001b[0;34m\u001b[0m\u001b[0m\n\u001b[0m",
            "\u001b[0;31mTypeError\u001b[0m: P.__array__() takes 0 positional arguments but 1 was given"
          ]
        }
      ]
    },
    {
      "cell_type": "code",
      "source": [
        "class P():\n",
        "    def __array__(self):\n",
        "        print('yo')\n"
      ],
      "metadata": {
        "id": "erzdVAFn6UmQ"
      },
      "execution_count": null,
      "outputs": []
    },
    {
      "cell_type": "code",
      "source": [
        "p = P()\n",
        "p.__array__()\n"
      ],
      "metadata": {
        "colab": {
          "base_uri": "https://localhost:8080/"
        },
        "id": "wfhlk8Pw7F9I",
        "outputId": "a9c3aa21-6564-4b58-e5b5-75c336ea6ac2"
      },
      "execution_count": null,
      "outputs": [
        {
          "output_type": "stream",
          "name": "stdout",
          "text": [
            "yo\n"
          ]
        }
      ]
    },
    {
      "cell_type": "code",
      "source": [
        "import numpy as np"
      ],
      "metadata": {
        "id": "BN7gY8Yj8g29"
      },
      "execution_count": null,
      "outputs": []
    },
    {
      "cell_type": "code",
      "source": [
        "range(1, 10)"
      ],
      "metadata": {
        "colab": {
          "base_uri": "https://localhost:8080/"
        },
        "id": "y8lmnO1G7Hag",
        "outputId": "f7cb833d-2271-42c0-ff0a-d6a92396874f"
      },
      "execution_count": null,
      "outputs": [
        {
          "output_type": "execute_result",
          "data": {
            "text/plain": [
              "range(1, 10)"
            ]
          },
          "metadata": {},
          "execution_count": 9
        }
      ]
    },
    {
      "cell_type": "code",
      "source": [
        "np.arange(1, 10)"
      ],
      "metadata": {
        "colab": {
          "base_uri": "https://localhost:8080/"
        },
        "id": "IdojQeNq9NXM",
        "outputId": "1c8db1fc-a9ac-4be6-96c1-6af7a0a51628"
      },
      "execution_count": null,
      "outputs": [
        {
          "output_type": "execute_result",
          "data": {
            "text/plain": [
              "array([1, 2, 3, 4, 5, 6, 7, 8, 9])"
            ]
          },
          "metadata": {},
          "execution_count": 15
        }
      ]
    },
    {
      "cell_type": "code",
      "source": [
        "np.arange(1, 10, 2)"
      ],
      "metadata": {
        "colab": {
          "base_uri": "https://localhost:8080/"
        },
        "id": "o8gIZa-b8cak",
        "outputId": "df5ed1ef-a4bd-446d-f21f-43f0e890c2c1"
      },
      "execution_count": null,
      "outputs": [
        {
          "output_type": "execute_result",
          "data": {
            "text/plain": [
              "array([1, 3, 5, 7, 9])"
            ]
          },
          "metadata": {},
          "execution_count": 13
        }
      ]
    },
    {
      "cell_type": "code",
      "source": [
        "np.arange(5)"
      ],
      "metadata": {
        "colab": {
          "base_uri": "https://localhost:8080/"
        },
        "id": "3BGGBLK88fuK",
        "outputId": "b3ea4dda-3764-40a4-e2fd-01e83076d438"
      },
      "execution_count": null,
      "outputs": [
        {
          "output_type": "execute_result",
          "data": {
            "text/plain": [
              "array([0, 1, 2, 3, 4])"
            ]
          },
          "metadata": {},
          "execution_count": 14
        }
      ]
    },
    {
      "cell_type": "code",
      "source": [
        "np.arange(1, 5, 0.5)"
      ],
      "metadata": {
        "colab": {
          "base_uri": "https://localhost:8080/"
        },
        "id": "Kmmgp0Yx8-bw",
        "outputId": "f13bad3b-0159-4b58-b9a4-baab84bd98b5"
      },
      "execution_count": null,
      "outputs": [
        {
          "output_type": "execute_result",
          "data": {
            "text/plain": [
              "array([1. , 1.5, 2. , 2.5, 3. , 3.5, 4. , 4.5])"
            ]
          },
          "metadata": {},
          "execution_count": 16
        }
      ]
    },
    {
      "cell_type": "code",
      "source": [
        "np.arange(0, 5, 0.5, dtype=int)"
      ],
      "metadata": {
        "colab": {
          "base_uri": "https://localhost:8080/"
        },
        "id": "-_O6zyfm9TaS",
        "outputId": "a3724635-bfcd-4759-e176-9c141e9de9ae"
      },
      "execution_count": null,
      "outputs": [
        {
          "output_type": "execute_result",
          "data": {
            "text/plain": [
              "array([0, 0, 0, 0, 0, 0, 0, 0, 0, 0])"
            ]
          },
          "metadata": {},
          "execution_count": 17
        }
      ]
    },
    {
      "cell_type": "code",
      "source": [
        "np.arange(0, 5, 0.5)"
      ],
      "metadata": {
        "colab": {
          "base_uri": "https://localhost:8080/"
        },
        "id": "V47wwCa7-LTn",
        "outputId": "91049c78-9ba3-4d36-a405-b9cbf4a9deff"
      },
      "execution_count": null,
      "outputs": [
        {
          "output_type": "execute_result",
          "data": {
            "text/plain": [
              "array([0. , 0.5, 1. , 1.5, 2. , 2.5, 3. , 3.5, 4. , 4.5])"
            ]
          },
          "metadata": {},
          "execution_count": 18
        }
      ]
    },
    {
      "cell_type": "code",
      "source": [
        "np.linspace(1, 10, 2)"
      ],
      "metadata": {
        "colab": {
          "base_uri": "https://localhost:8080/"
        },
        "id": "jfC8SHlx-OLv",
        "outputId": "cc04ec61-1506-4059-924a-1e87c8c3423f"
      },
      "execution_count": null,
      "outputs": [
        {
          "output_type": "execute_result",
          "data": {
            "text/plain": [
              "array([ 1., 10.])"
            ]
          },
          "metadata": {},
          "execution_count": 19
        }
      ]
    },
    {
      "cell_type": "code",
      "source": [
        "np.array([[1, 2, 3],\n",
        "          [4, 5, 6]])"
      ],
      "metadata": {
        "colab": {
          "base_uri": "https://localhost:8080/"
        },
        "id": "VnoEeCxJDv0j",
        "outputId": "d549582c-5058-42a1-cf7a-c0d047637b1d"
      },
      "execution_count": null,
      "outputs": [
        {
          "output_type": "execute_result",
          "data": {
            "text/plain": [
              "array([[1, 2, 3],\n",
              "       [4, 5, 6]])"
            ]
          },
          "metadata": {},
          "execution_count": 20
        }
      ]
    },
    {
      "cell_type": "code",
      "source": [],
      "metadata": {
        "id": "7yEYOaNWGBOY"
      },
      "execution_count": null,
      "outputs": []
    },
    {
      "cell_type": "code",
      "source": [
        "a.ndim"
      ],
      "metadata": {
        "colab": {
          "base_uri": "https://localhost:8080/"
        },
        "id": "mIa81tP_GXFx",
        "outputId": "056d6a75-73eb-4f4d-9ca8-2f9b58467723"
      },
      "execution_count": null,
      "outputs": [
        {
          "output_type": "execute_result",
          "data": {
            "text/plain": [
              "3"
            ]
          },
          "metadata": {},
          "execution_count": 23
        }
      ]
    },
    {
      "cell_type": "code",
      "source": [
        "a.shape"
      ],
      "metadata": {
        "colab": {
          "base_uri": "https://localhost:8080/"
        },
        "id": "QhU3mmD4GbEx",
        "outputId": "00c08f9b-937e-456f-f4cc-8d926f0832d3"
      },
      "execution_count": null,
      "outputs": [
        {
          "output_type": "execute_result",
          "data": {
            "text/plain": [
              "(1, 3, 3)"
            ]
          },
          "metadata": {},
          "execution_count": 24
        }
      ]
    },
    {
      "cell_type": "code",
      "source": [
        "a = np.array([\n",
        "    [[1, 2, 3],\n",
        "     [4, 5, 6]],\n",
        "\n",
        "    [[11, 22, 33],\n",
        "     [44, 55, 66]]\n",
        "\n",
        "])"
      ],
      "metadata": {
        "id": "FmAloDExGc7x"
      },
      "execution_count": null,
      "outputs": []
    },
    {
      "cell_type": "code",
      "source": [
        "a.shape"
      ],
      "metadata": {
        "colab": {
          "base_uri": "https://localhost:8080/"
        },
        "id": "VJNahAw_HRGd",
        "outputId": "f4d98a60-37a6-4dba-9913-39aa82bd7e67"
      },
      "execution_count": null,
      "outputs": [
        {
          "output_type": "execute_result",
          "data": {
            "text/plain": [
              "(2, 2, 3)"
            ]
          },
          "metadata": {},
          "execution_count": 28
        }
      ]
    },
    {
      "cell_type": "code",
      "source": [
        "a"
      ],
      "metadata": {
        "colab": {
          "base_uri": "https://localhost:8080/"
        },
        "id": "SrtDkXm5HRy7",
        "outputId": "2f3da022-bec6-49fb-dba6-cef9ad329a2b"
      },
      "execution_count": null,
      "outputs": [
        {
          "output_type": "execute_result",
          "data": {
            "text/plain": [
              "array([[[ 1,  2,  3],\n",
              "        [ 4,  5,  6]],\n",
              "\n",
              "       [[11, 22, 33],\n",
              "        [44, 55, 66]]])"
            ]
          },
          "metadata": {},
          "execution_count": 29
        }
      ]
    },
    {
      "cell_type": "code",
      "source": [
        "a = np.array((15, 16))\n",
        "b = np.array((15, ))\n",
        "c = np.array((15))\n",
        "d = np.array(15)\n",
        "print(a, type(a), a.ndim, a.shape)\n",
        "print(b, type(b), b.ndim, b.shape)\n",
        "print(c, type(c), c.ndim, c.shape)\n",
        "print(d, type(d), d.ndim, d.shape)"
      ],
      "metadata": {
        "colab": {
          "base_uri": "https://localhost:8080/"
        },
        "id": "jsWmlBO8sNmX",
        "outputId": "d91b8b47-0b00-4d4f-ff55-4d96e6325969"
      },
      "execution_count": null,
      "outputs": [
        {
          "output_type": "stream",
          "name": "stdout",
          "text": [
            "[15 16] <class 'numpy.ndarray'> 1 (2,)\n",
            "[15] <class 'numpy.ndarray'> 1 (1,)\n",
            "15 <class 'numpy.ndarray'> 0 ()\n",
            "15 <class 'numpy.ndarray'> 0 ()\n"
          ]
        }
      ]
    },
    {
      "cell_type": "code",
      "source": [
        "e = np.zeros((3, 2, 4))\n",
        "a = np.zeros((2, 3))\n",
        "b = np.zeros(2)\n",
        "c = np.zeros((2))\n",
        "d = np.zeros((2,))\n",
        "print(e, e.shape)\n",
        "print(a, a.shape)\n",
        "print(b, b.shape)\n",
        "print(c, c.shape)\n",
        "print(d, d.shape)"
      ],
      "metadata": {
        "colab": {
          "base_uri": "https://localhost:8080/"
        },
        "id": "nI-Vc0jbHfAG",
        "outputId": "7b61f372-ed47-471a-e052-c2fcd4e3b3ed"
      },
      "execution_count": null,
      "outputs": [
        {
          "output_type": "stream",
          "name": "stdout",
          "text": [
            "[[[0. 0. 0. 0.]\n",
            "  [0. 0. 0. 0.]]\n",
            "\n",
            " [[0. 0. 0. 0.]\n",
            "  [0. 0. 0. 0.]]\n",
            "\n",
            " [[0. 0. 0. 0.]\n",
            "  [0. 0. 0. 0.]]] (3, 2, 4)\n",
            "[[0. 0. 0.]\n",
            " [0. 0. 0.]] (2, 3)\n",
            "[0. 0.] (2,)\n",
            "[0. 0.] (2,)\n",
            "[0. 0.] (2,)\n"
          ]
        }
      ]
    },
    {
      "cell_type": "code",
      "source": [
        "import numpy as np"
      ],
      "metadata": {
        "id": "DUwkcOGTHoF8"
      },
      "execution_count": null,
      "outputs": []
    },
    {
      "cell_type": "code",
      "source": [
        "e = np.ones((3, 2, 4))\n",
        "a = np.ones((2, 3))\n",
        "b = np.ones(2)\n",
        "c = np.ones((2))\n",
        "d = np.ones((2,))\n",
        "print(e, e.shape)\n",
        "print(a, a.shape)\n",
        "print(b, b.shape)\n",
        "print(c, c.shape)\n",
        "print(d, d.shape)"
      ],
      "metadata": {
        "colab": {
          "base_uri": "https://localhost:8080/"
        },
        "id": "AFMlTFQ-OmVe",
        "outputId": "579cf559-ed92-4cc0-dbe2-742929d9cd03"
      },
      "execution_count": null,
      "outputs": [
        {
          "output_type": "stream",
          "name": "stdout",
          "text": [
            "[[[1. 1. 1. 1.]\n",
            "  [1. 1. 1. 1.]]\n",
            "\n",
            " [[1. 1. 1. 1.]\n",
            "  [1. 1. 1. 1.]]\n",
            "\n",
            " [[1. 1. 1. 1.]\n",
            "  [1. 1. 1. 1.]]] (3, 2, 4)\n",
            "[[1. 1. 1.]\n",
            " [1. 1. 1.]] (2, 3)\n",
            "[1. 1.] (2,)\n",
            "[1. 1.] (2,)\n",
            "[1. 1.] (2,)\n"
          ]
        }
      ]
    },
    {
      "cell_type": "code",
      "source": [
        "a = np.eye(2)\n",
        "b = np.eye(2, 3)\n",
        "c = np.eye(2, 3, 1)\n",
        "print(a, a.shape)\n",
        "print(b, b.shape)\n",
        "print(c, c.shape)"
      ],
      "metadata": {
        "colab": {
          "base_uri": "https://localhost:8080/"
        },
        "id": "0QNd3kPDPAoX",
        "outputId": "7303fab5-52cd-44f6-98a9-c8202086bf62"
      },
      "execution_count": null,
      "outputs": [
        {
          "output_type": "stream",
          "name": "stdout",
          "text": [
            "[[1. 0.]\n",
            " [0. 1.]] (2, 2)\n",
            "[[1. 0. 0.]\n",
            " [0. 1. 0.]] (2, 3)\n",
            "[[0. 1. 0.]\n",
            " [0. 0. 1.]] (2, 3)\n"
          ]
        }
      ]
    },
    {
      "cell_type": "code",
      "source": [
        "a = np.eye(2)\n",
        "b = np.stack([a, a, a])\n",
        "print(b.shape)\n",
        "print(b.ndim)"
      ],
      "metadata": {
        "colab": {
          "base_uri": "https://localhost:8080/"
        },
        "id": "u98dU7ffPPeH",
        "outputId": "c06843f8-f082-41f2-8ffb-62182335f889"
      },
      "execution_count": null,
      "outputs": [
        {
          "output_type": "stream",
          "name": "stdout",
          "text": [
            "(3, 2, 2)\n",
            "3\n"
          ]
        }
      ]
    },
    {
      "cell_type": "code",
      "source": [
        "for i in range(1.5, 10.5, 2):\n",
        "  print(i)"
      ],
      "metadata": {
        "colab": {
          "base_uri": "https://localhost:8080/",
          "height": 169
        },
        "id": "3oWd4xXH0qcI",
        "outputId": "c5fb6b2e-6fa6-41b9-c5c3-5023b298745a"
      },
      "execution_count": null,
      "outputs": [
        {
          "output_type": "error",
          "ename": "TypeError",
          "evalue": "'float' object cannot be interpreted as an integer",
          "traceback": [
            "\u001b[0;31m---------------------------------------------------------------------------\u001b[0m",
            "\u001b[0;31mTypeError\u001b[0m                                 Traceback (most recent call last)",
            "\u001b[0;32m/tmp/ipython-input-1597592230.py\u001b[0m in \u001b[0;36m<cell line: 0>\u001b[0;34m()\u001b[0m\n\u001b[0;32m----> 1\u001b[0;31m \u001b[0;32mfor\u001b[0m \u001b[0mi\u001b[0m \u001b[0;32min\u001b[0m \u001b[0mrange\u001b[0m\u001b[0;34m(\u001b[0m\u001b[0;36m1.5\u001b[0m\u001b[0;34m,\u001b[0m \u001b[0;36m10.5\u001b[0m\u001b[0;34m,\u001b[0m \u001b[0;36m2\u001b[0m\u001b[0;34m)\u001b[0m\u001b[0;34m:\u001b[0m\u001b[0;34m\u001b[0m\u001b[0;34m\u001b[0m\u001b[0m\n\u001b[0m\u001b[1;32m      2\u001b[0m   \u001b[0mprint\u001b[0m\u001b[0;34m(\u001b[0m\u001b[0mi\u001b[0m\u001b[0;34m)\u001b[0m\u001b[0;34m\u001b[0m\u001b[0;34m\u001b[0m\u001b[0m\n",
            "\u001b[0;31mTypeError\u001b[0m: 'float' object cannot be interpreted as an integer"
          ]
        }
      ]
    },
    {
      "cell_type": "code",
      "source": [
        "2 * 8"
      ],
      "metadata": {
        "colab": {
          "base_uri": "https://localhost:8080/"
        },
        "id": "RKs9AdRi0vKX",
        "outputId": "0e61b2ec-08fe-4bf2-bd93-3c4615d22f56"
      },
      "execution_count": null,
      "outputs": [
        {
          "output_type": "execute_result",
          "data": {
            "text/plain": [
              "16"
            ]
          },
          "metadata": {},
          "execution_count": 14
        }
      ]
    },
    {
      "cell_type": "code",
      "source": [
        "import numpy as np"
      ],
      "metadata": {
        "id": "aH1U03e003r5"
      },
      "execution_count": null,
      "outputs": []
    },
    {
      "cell_type": "code",
      "source": [
        "a = 'hello'\n",
        "b = np.array(a)"
      ],
      "metadata": {
        "id": "RRig2E-BKnXe"
      },
      "execution_count": null,
      "outputs": []
    },
    {
      "cell_type": "code",
      "source": [
        "b"
      ],
      "metadata": {
        "colab": {
          "base_uri": "https://localhost:8080/"
        },
        "id": "FYJnDKXA01GH",
        "outputId": "fe08385b-6a0a-411a-e097-69bbea3853c8"
      },
      "execution_count": null,
      "outputs": [
        {
          "output_type": "execute_result",
          "data": {
            "text/plain": [
              "array('hello', dtype='<U5')"
            ]
          },
          "metadata": {},
          "execution_count": 4
        }
      ]
    },
    {
      "cell_type": "code",
      "source": [
        "2 ** 8 // 2"
      ],
      "metadata": {
        "colab": {
          "base_uri": "https://localhost:8080/"
        },
        "id": "eiirUs-f07HC",
        "outputId": "3e47aec9-c0f7-42de-f438-da0c56cd6eb2"
      },
      "execution_count": null,
      "outputs": [
        {
          "output_type": "execute_result",
          "data": {
            "text/plain": [
              "128"
            ]
          },
          "metadata": {},
          "execution_count": 3
        }
      ]
    },
    {
      "cell_type": "code",
      "source": [
        "2 ** 7"
      ],
      "metadata": {
        "colab": {
          "base_uri": "https://localhost:8080/"
        },
        "id": "QHZiaFD35tjy",
        "outputId": "0eddd03b-033e-4ee4-8566-319c42d15205"
      },
      "execution_count": null,
      "outputs": [
        {
          "output_type": "execute_result",
          "data": {
            "text/plain": [
              "128"
            ]
          },
          "metadata": {},
          "execution_count": 4
        }
      ]
    },
    {
      "cell_type": "code",
      "source": [
        "np.int8(32)"
      ],
      "metadata": {
        "id": "bHQ9Bdcn6VsX",
        "colab": {
          "base_uri": "https://localhost:8080/"
        },
        "outputId": "4f964470-9898-49e3-d016-d533a12cacf8"
      },
      "execution_count": null,
      "outputs": [
        {
          "output_type": "execute_result",
          "data": {
            "text/plain": [
              "np.int8(32)"
            ]
          },
          "metadata": {},
          "execution_count": 7
        }
      ]
    },
    {
      "cell_type": "code",
      "source": [
        "np.int8(-129)"
      ],
      "metadata": {
        "id": "DlCtxWiuD9iR",
        "colab": {
          "base_uri": "https://localhost:8080/",
          "height": 150
        },
        "outputId": "05d9f32b-77e7-4bc9-c131-2b6378845c84"
      },
      "execution_count": null,
      "outputs": [
        {
          "output_type": "error",
          "ename": "OverflowError",
          "evalue": "Python integer -129 out of bounds for int8",
          "traceback": [
            "\u001b[0;31m---------------------------------------------------------------------------\u001b[0m",
            "\u001b[0;31mOverflowError\u001b[0m                             Traceback (most recent call last)",
            "\u001b[0;32m/tmp/ipython-input-2898394578.py\u001b[0m in \u001b[0;36m<cell line: 0>\u001b[0;34m()\u001b[0m\n\u001b[0;32m----> 1\u001b[0;31m \u001b[0mnp\u001b[0m\u001b[0;34m.\u001b[0m\u001b[0mint8\u001b[0m\u001b[0;34m(\u001b[0m\u001b[0;34m-\u001b[0m\u001b[0;36m129\u001b[0m\u001b[0;34m)\u001b[0m\u001b[0;34m\u001b[0m\u001b[0;34m\u001b[0m\u001b[0m\n\u001b[0m",
            "\u001b[0;31mOverflowError\u001b[0m: Python integer -129 out of bounds for int8"
          ]
        }
      ]
    },
    {
      "cell_type": "code",
      "source": [
        "np.arange(5, 10, 0.5)"
      ],
      "metadata": {
        "colab": {
          "base_uri": "https://localhost:8080/"
        },
        "id": "sLHPKugaEfdo",
        "outputId": "5fb6b880-7f42-49d5-da06-0c42fe511193"
      },
      "execution_count": null,
      "outputs": [
        {
          "output_type": "execute_result",
          "data": {
            "text/plain": [
              "array([5. , 5.5, 6. , 6.5, 7. , 7.5, 8. , 8.5, 9. , 9.5])"
            ]
          },
          "metadata": {},
          "execution_count": 16
        }
      ]
    },
    {
      "cell_type": "code",
      "source": [
        "np.arange(10, 5, -.5)"
      ],
      "metadata": {
        "colab": {
          "base_uri": "https://localhost:8080/"
        },
        "id": "Olnb1ZejK-ZC",
        "outputId": "5094d5a1-72fc-46c5-cd60-71a4bea1b705"
      },
      "execution_count": null,
      "outputs": [
        {
          "output_type": "execute_result",
          "data": {
            "text/plain": [
              "array([10. ,  9.5,  9. ,  8.5,  8. ,  7.5,  7. ,  6.5,  6. ,  5.5])"
            ]
          },
          "metadata": {},
          "execution_count": 19
        }
      ]
    },
    {
      "cell_type": "code",
      "source": [
        "for i in range(10):\n",
        "  print(i)"
      ],
      "metadata": {
        "colab": {
          "base_uri": "https://localhost:8080/"
        },
        "id": "BahMzxgjJnIz",
        "outputId": "037646fc-83be-4531-ec44-974c2ad77d1d"
      },
      "execution_count": null,
      "outputs": [
        {
          "output_type": "stream",
          "name": "stdout",
          "text": [
            "0\n",
            "1\n",
            "2\n",
            "3\n",
            "4\n",
            "5\n",
            "6\n",
            "7\n",
            "8\n",
            "9\n"
          ]
        }
      ]
    },
    {
      "cell_type": "code",
      "source": [
        "import numpy as np\n",
        "\n",
        "# Normal expectation: end = 1.0 should not be included\n",
        "arr = np.arange(0, 1, 0.1)\n",
        "print(arr)\n",
        "print(\"Is 1.0 included?\", 1.0 in arr)\n"
      ],
      "metadata": {
        "colab": {
          "base_uri": "https://localhost:8080/"
        },
        "id": "m8Y6bZgkJtJR",
        "outputId": "d070aec1-591f-49e0-cd5e-5495037f9625"
      },
      "execution_count": null,
      "outputs": [
        {
          "output_type": "stream",
          "name": "stdout",
          "text": [
            "[0.  0.1 0.2 0.3 0.4 0.5 0.6 0.7 0.8 0.9]\n",
            "Is 1.0 included? False\n"
          ]
        }
      ]
    },
    {
      "cell_type": "code",
      "source": [
        "np.arange(0, 5, 0.5, dtype=int)"
      ],
      "metadata": {
        "colab": {
          "base_uri": "https://localhost:8080/"
        },
        "id": "4fzb0XbONeSq",
        "outputId": "edb3f12e-e9e3-4712-efc0-04abb95a5dcf"
      },
      "execution_count": null,
      "outputs": [
        {
          "output_type": "execute_result",
          "data": {
            "text/plain": [
              "array([0, 0, 0, 0, 0, 0, 0, 0, 0, 0])"
            ]
          },
          "metadata": {},
          "execution_count": 21
        }
      ]
    },
    {
      "cell_type": "code",
      "source": [
        "np.arange(0, 5, 0.5)"
      ],
      "metadata": {
        "colab": {
          "base_uri": "https://localhost:8080/"
        },
        "id": "0Nc6iqPoO4gK",
        "outputId": "89ab5e1c-ba32-4665-970e-553b29ed1c09"
      },
      "execution_count": null,
      "outputs": [
        {
          "output_type": "execute_result",
          "data": {
            "text/plain": [
              "array([0. , 0.5, 1. , 1.5, 2. , 2.5, 3. , 3.5, 4. , 4.5])"
            ]
          },
          "metadata": {},
          "execution_count": 22
        }
      ]
    },
    {
      "cell_type": "code",
      "source": [
        "np.eye(3, k=3)"
      ],
      "metadata": {
        "colab": {
          "base_uri": "https://localhost:8080/"
        },
        "id": "PtVmvIJwO7ti",
        "outputId": "e6866485-a022-42ac-985c-e16fd95b18b6"
      },
      "execution_count": null,
      "outputs": [
        {
          "output_type": "execute_result",
          "data": {
            "text/plain": [
              "array([[0., 0., 0.],\n",
              "       [0., 0., 0.],\n",
              "       [0., 0., 0.]])"
            ]
          },
          "metadata": {},
          "execution_count": 26
        }
      ]
    },
    {
      "cell_type": "code",
      "source": [
        "np.ones(3)"
      ],
      "metadata": {
        "id": "RrQky7rDVZeo",
        "colab": {
          "base_uri": "https://localhost:8080/"
        },
        "outputId": "f6d0ebc9-3aec-47ac-b576-3edad2e06638"
      },
      "execution_count": null,
      "outputs": [
        {
          "output_type": "execute_result",
          "data": {
            "text/plain": [
              "array([1., 1., 1.])"
            ]
          },
          "metadata": {},
          "execution_count": 30
        }
      ]
    },
    {
      "cell_type": "code",
      "source": [
        "a = np.indices((4, 2))\n"
      ],
      "metadata": {
        "id": "_Ck-fhg7eJBy"
      },
      "execution_count": null,
      "outputs": []
    },
    {
      "cell_type": "code",
      "source": [
        "a"
      ],
      "metadata": {
        "colab": {
          "base_uri": "https://localhost:8080/"
        },
        "id": "8-GJO7AEn0mz",
        "outputId": "50dfa749-19b5-4de0-cd0b-866c09bd001c"
      },
      "execution_count": null,
      "outputs": [
        {
          "output_type": "execute_result",
          "data": {
            "text/plain": [
              "array([[[0, 0],\n",
              "        [1, 1],\n",
              "        [2, 2],\n",
              "        [3, 3]],\n",
              "\n",
              "       [[0, 1],\n",
              "        [0, 1],\n",
              "        [0, 1],\n",
              "        [0, 1]]])"
            ]
          },
          "metadata": {},
          "execution_count": 37
        }
      ]
    },
    {
      "cell_type": "code",
      "source": [
        "a.shape"
      ],
      "metadata": {
        "colab": {
          "base_uri": "https://localhost:8080/"
        },
        "id": "ALuRvPJIn31X",
        "outputId": "bc79e829-d2a9-4650-9f2f-5c261b1691da"
      },
      "execution_count": null,
      "outputs": [
        {
          "output_type": "execute_result",
          "data": {
            "text/plain": [
              "(2, 4, 2)"
            ]
          },
          "metadata": {},
          "execution_count": 38
        }
      ]
    },
    {
      "cell_type": "code",
      "source": [
        "grid = np.indices((4, 3, 2))"
      ],
      "metadata": {
        "id": "XB8OTdcFldNq"
      },
      "execution_count": null,
      "outputs": []
    },
    {
      "cell_type": "code",
      "source": [
        "grid.shape"
      ],
      "metadata": {
        "colab": {
          "base_uri": "https://localhost:8080/"
        },
        "id": "XCcUfh8Hn9kg",
        "outputId": "4ecab326-3454-4154-c155-1acd159be233"
      },
      "execution_count": null,
      "outputs": [
        {
          "output_type": "execute_result",
          "data": {
            "text/plain": [
              "(3, 4, 3, 2)"
            ]
          },
          "metadata": {},
          "execution_count": 40
        }
      ]
    },
    {
      "cell_type": "code",
      "source": [
        "grid"
      ],
      "metadata": {
        "colab": {
          "base_uri": "https://localhost:8080/"
        },
        "id": "xinna7wGn_Rv",
        "outputId": "3bc4e1c8-ddf0-4253-a563-c49dfef4dec4"
      },
      "execution_count": null,
      "outputs": [
        {
          "output_type": "execute_result",
          "data": {
            "text/plain": [
              "array([[[[0, 0],\n",
              "         [0, 0],\n",
              "         [0, 0]],\n",
              "\n",
              "        [[1, 1],\n",
              "         [1, 1],\n",
              "         [1, 1]],\n",
              "\n",
              "        [[2, 2],\n",
              "         [2, 2],\n",
              "         [2, 2]],\n",
              "\n",
              "        [[3, 3],\n",
              "         [3, 3],\n",
              "         [3, 3]]],\n",
              "\n",
              "\n",
              "       [[[0, 0],\n",
              "         [1, 1],\n",
              "         [2, 2]],\n",
              "\n",
              "        [[0, 0],\n",
              "         [1, 1],\n",
              "         [2, 2]],\n",
              "\n",
              "        [[0, 0],\n",
              "         [1, 1],\n",
              "         [2, 2]],\n",
              "\n",
              "        [[0, 0],\n",
              "         [1, 1],\n",
              "         [2, 2]]],\n",
              "\n",
              "\n",
              "       [[[0, 1],\n",
              "         [0, 1],\n",
              "         [0, 1]],\n",
              "\n",
              "        [[0, 1],\n",
              "         [0, 1],\n",
              "         [0, 1]],\n",
              "\n",
              "        [[0, 1],\n",
              "         [0, 1],\n",
              "         [0, 1]],\n",
              "\n",
              "        [[0, 1],\n",
              "         [0, 1],\n",
              "         [0, 1]]]])"
            ]
          },
          "metadata": {},
          "execution_count": 41
        }
      ]
    },
    {
      "cell_type": "code",
      "source": [
        "import numpy as np"
      ],
      "metadata": {
        "id": "5ft8hz3Xt5RP"
      },
      "execution_count": null,
      "outputs": []
    },
    {
      "cell_type": "code",
      "source": [
        "a = np.array([[ 0,  1,  2,  3],\n",
        "              [ 4,  5,  6,  7],\n",
        "              [ 8,  9, 10, 11]])"
      ],
      "metadata": {
        "id": "MGHIpAiWoEvg"
      },
      "execution_count": null,
      "outputs": []
    },
    {
      "cell_type": "code",
      "source": [
        "b = a"
      ],
      "metadata": {
        "id": "q2bRqWL-tBMM"
      },
      "execution_count": null,
      "outputs": []
    },
    {
      "cell_type": "code",
      "source": [
        "a is b"
      ],
      "metadata": {
        "colab": {
          "base_uri": "https://localhost:8080/"
        },
        "id": "u6C_wHTQtGNu",
        "outputId": "69740194-06c0-4ee7-a718-11ea9ce7807a"
      },
      "execution_count": null,
      "outputs": [
        {
          "output_type": "execute_result",
          "data": {
            "text/plain": [
              "True"
            ]
          },
          "metadata": {},
          "execution_count": 4
        }
      ]
    },
    {
      "cell_type": "code",
      "source": [
        "id(a) == id(b)"
      ],
      "metadata": {
        "colab": {
          "base_uri": "https://localhost:8080/"
        },
        "id": "Z3KYzvvrtHBq",
        "outputId": "d5a128ed-a7e0-4da2-975d-464a0b03f13c"
      },
      "execution_count": null,
      "outputs": [
        {
          "output_type": "execute_result",
          "data": {
            "text/plain": [
              "True"
            ]
          },
          "metadata": {},
          "execution_count": 5
        }
      ]
    },
    {
      "cell_type": "code",
      "source": [
        "a[0][0] = 12345"
      ],
      "metadata": {
        "id": "yB_1eZ__tnKl"
      },
      "execution_count": null,
      "outputs": []
    },
    {
      "cell_type": "code",
      "source": [
        "a"
      ],
      "metadata": {
        "colab": {
          "base_uri": "https://localhost:8080/"
        },
        "id": "d3-bOKWatp6B",
        "outputId": "7a88ce5f-9e37-4db3-dcc4-76463f73ddad"
      },
      "execution_count": null,
      "outputs": [
        {
          "output_type": "execute_result",
          "data": {
            "text/plain": [
              "array([[12345,     1,     2,     3],\n",
              "       [    4,     5,     6,     7],\n",
              "       [    8,     9,    10,    11]])"
            ]
          },
          "metadata": {},
          "execution_count": 7
        }
      ]
    },
    {
      "cell_type": "code",
      "source": [
        "b"
      ],
      "metadata": {
        "colab": {
          "base_uri": "https://localhost:8080/"
        },
        "id": "k2hEams0tq_f",
        "outputId": "b72b3872-f3f2-484c-8bc6-904cff49a0eb"
      },
      "execution_count": null,
      "outputs": [
        {
          "output_type": "execute_result",
          "data": {
            "text/plain": [
              "array([[12345,     1,     2,     3],\n",
              "       [    4,     5,     6,     7],\n",
              "       [    8,     9,    10,    11]])"
            ]
          },
          "metadata": {},
          "execution_count": 8
        }
      ]
    },
    {
      "cell_type": "code",
      "source": [
        "a = np.array([[ 0,  1,  2,  3],\n",
        "              [ 4,  5,  6,  7],\n",
        "              [ 8,  9, 10, 11]])"
      ],
      "metadata": {
        "id": "WnmS76XJtJtz"
      },
      "execution_count": null,
      "outputs": []
    },
    {
      "cell_type": "code",
      "source": [
        "b = a.view()"
      ],
      "metadata": {
        "id": "n0EpqJMRtMI1"
      },
      "execution_count": null,
      "outputs": []
    },
    {
      "cell_type": "code",
      "source": [
        "a is b"
      ],
      "metadata": {
        "colab": {
          "base_uri": "https://localhost:8080/"
        },
        "id": "ibG1kKkGtPG0",
        "outputId": "172447ce-3c85-4816-b671-8f92607a5d78"
      },
      "execution_count": null,
      "outputs": [
        {
          "output_type": "execute_result",
          "data": {
            "text/plain": [
              "False"
            ]
          },
          "metadata": {},
          "execution_count": 11
        }
      ]
    },
    {
      "cell_type": "code",
      "source": [
        "id(a) == id(b)"
      ],
      "metadata": {
        "colab": {
          "base_uri": "https://localhost:8080/"
        },
        "id": "ih9aZeq1tTst",
        "outputId": "e2192456-59be-4ed4-8729-379736733ea5"
      },
      "execution_count": null,
      "outputs": [
        {
          "output_type": "execute_result",
          "data": {
            "text/plain": [
              "False"
            ]
          },
          "metadata": {},
          "execution_count": 12
        }
      ]
    },
    {
      "cell_type": "code",
      "source": [
        "a[0][0] = 12345"
      ],
      "metadata": {
        "id": "099_DSj2tWLc"
      },
      "execution_count": null,
      "outputs": []
    },
    {
      "cell_type": "code",
      "source": [
        "a"
      ],
      "metadata": {
        "colab": {
          "base_uri": "https://localhost:8080/"
        },
        "id": "v4mKdp2Ate5u",
        "outputId": "d8fc03fb-c05b-427a-c605-6e6d0cea9e88"
      },
      "execution_count": null,
      "outputs": [
        {
          "output_type": "execute_result",
          "data": {
            "text/plain": [
              "array([[12345,     1,     2,     3],\n",
              "       [    4,     5,     6,     7],\n",
              "       [    8,     9,    10,    11]])"
            ]
          },
          "metadata": {},
          "execution_count": 14
        }
      ]
    },
    {
      "cell_type": "code",
      "source": [
        "b"
      ],
      "metadata": {
        "colab": {
          "base_uri": "https://localhost:8080/"
        },
        "id": "6mqCvZjwtbCz",
        "outputId": "bd0ccdd4-6ae0-4aa0-abef-24251ddb3fa2"
      },
      "execution_count": null,
      "outputs": [
        {
          "output_type": "execute_result",
          "data": {
            "text/plain": [
              "array([[12345,     1,     2,     3],\n",
              "       [    4,     5,     6,     7],\n",
              "       [    8,     9,    10,    11]])"
            ]
          },
          "metadata": {},
          "execution_count": 15
        }
      ]
    },
    {
      "cell_type": "code",
      "source": [
        "a = np.array([[ 0,  1,  2,  3],\n",
        "              [ 4,  5,  6,  7],\n",
        "              [ 8,  9, 10, 11]])"
      ],
      "metadata": {
        "id": "1uc3WDUKtdC1"
      },
      "execution_count": null,
      "outputs": []
    },
    {
      "cell_type": "code",
      "source": [
        "b = a.copy()"
      ],
      "metadata": {
        "id": "1-66R1PEuDVY"
      },
      "execution_count": null,
      "outputs": []
    },
    {
      "cell_type": "code",
      "source": [
        "a is b"
      ],
      "metadata": {
        "colab": {
          "base_uri": "https://localhost:8080/"
        },
        "id": "Jk5eu4hWuITh",
        "outputId": "d1eceb79-6f3d-4504-b4b2-d72f39446e1b"
      },
      "execution_count": null,
      "outputs": [
        {
          "output_type": "execute_result",
          "data": {
            "text/plain": [
              "False"
            ]
          },
          "metadata": {},
          "execution_count": 18
        }
      ]
    },
    {
      "cell_type": "code",
      "source": [
        "id(a) == id(b)"
      ],
      "metadata": {
        "colab": {
          "base_uri": "https://localhost:8080/"
        },
        "id": "J0VEGYrguJep",
        "outputId": "ef26cc94-c4ae-431b-f20d-780c0c63721b"
      },
      "execution_count": null,
      "outputs": [
        {
          "output_type": "execute_result",
          "data": {
            "text/plain": [
              "False"
            ]
          },
          "metadata": {},
          "execution_count": 19
        }
      ]
    },
    {
      "cell_type": "code",
      "source": [
        "a[0][0] = 12345"
      ],
      "metadata": {
        "id": "lrN9p9GYuL2x"
      },
      "execution_count": null,
      "outputs": []
    },
    {
      "cell_type": "code",
      "source": [
        "a"
      ],
      "metadata": {
        "colab": {
          "base_uri": "https://localhost:8080/"
        },
        "id": "lpx1Wc7EuN3Q",
        "outputId": "6ae045b2-faf9-4525-c521-db28f6331207"
      },
      "execution_count": null,
      "outputs": [
        {
          "output_type": "execute_result",
          "data": {
            "text/plain": [
              "array([[12345,     1,     2,     3],\n",
              "       [    4,     5,     6,     7],\n",
              "       [    8,     9,    10,    11]])"
            ]
          },
          "metadata": {},
          "execution_count": 21
        }
      ]
    },
    {
      "cell_type": "code",
      "source": [
        "b"
      ],
      "metadata": {
        "colab": {
          "base_uri": "https://localhost:8080/"
        },
        "id": "qFoo1NQauOMJ",
        "outputId": "98c9b288-3bac-4778-e8b1-b57e4f08cfc6"
      },
      "execution_count": null,
      "outputs": [
        {
          "output_type": "execute_result",
          "data": {
            "text/plain": [
              "array([[ 0,  1,  2,  3],\n",
              "       [ 4,  5,  6,  7],\n",
              "       [ 8,  9, 10, 11]])"
            ]
          },
          "metadata": {},
          "execution_count": 22
        }
      ]
    },
    {
      "cell_type": "code",
      "source": [
        "import numpy as np\n",
        "\n",
        "a = np.arange(12)\n",
        "c = a.view()          # c shares data with a\n",
        "print(c is a)         # False\n",
        "print(c.base is a)    # True → c’s data comes from a\n",
        "print(c.flags.owndata)# False → c does not own its data\n",
        "\n",
        "c = c.reshape((2, 6)) # reshape c\n",
        "print(a.shape)        # still (12,)\n",
        "c[0, 4] = 1234\n",
        "print(a)\n"
      ],
      "metadata": {
        "colab": {
          "base_uri": "https://localhost:8080/"
        },
        "id": "Z5ypemWHuOup",
        "outputId": "ef752d4d-4e37-45e3-eacf-ca71c4cf49b9"
      },
      "execution_count": null,
      "outputs": [
        {
          "output_type": "stream",
          "name": "stdout",
          "text": [
            "False\n",
            "True\n",
            "False\n",
            "(12,)\n",
            "[   0    1    2    3 1234    5    6    7    8    9   10   11]\n"
          ]
        }
      ]
    },
    {
      "cell_type": "code",
      "source": [
        "a"
      ],
      "metadata": {
        "colab": {
          "base_uri": "https://localhost:8080/"
        },
        "id": "m-pXGV_H8MKZ",
        "outputId": "d3ddeb9a-cca0-4503-b510-da04c2deead0"
      },
      "execution_count": null,
      "outputs": [
        {
          "output_type": "execute_result",
          "data": {
            "text/plain": [
              "array([   0,    1,    2,    3, 1234,    5,    6,    7,    8,    9,   10,\n",
              "         11])"
            ]
          },
          "metadata": {},
          "execution_count": 26
        }
      ]
    },
    {
      "cell_type": "code",
      "source": [
        "c"
      ],
      "metadata": {
        "colab": {
          "base_uri": "https://localhost:8080/"
        },
        "id": "CjYhEGk89lkD",
        "outputId": "888c2384-840c-431f-9892-63d2bf7803f9"
      },
      "execution_count": null,
      "outputs": [
        {
          "output_type": "execute_result",
          "data": {
            "text/plain": [
              "array([[   0,    1,    2,    3, 1234,    5],\n",
              "       [   6,    7,    8,    9,   10,   11]])"
            ]
          },
          "metadata": {},
          "execution_count": 25
        }
      ]
    },
    {
      "cell_type": "code",
      "source": [
        "a = np.arange(int(1e8))\n",
        "b = a[:100].copy()\n",
        "# del a"
      ],
      "metadata": {
        "id": "g0hvQ9Qx9pN3"
      },
      "execution_count": null,
      "outputs": []
    },
    {
      "cell_type": "code",
      "source": [
        "a"
      ],
      "metadata": {
        "colab": {
          "base_uri": "https://localhost:8080/"
        },
        "id": "l4zHhrWH-JCt",
        "outputId": "85b02cc0-7ce4-4868-dc77-2601f5a90272"
      },
      "execution_count": null,
      "outputs": [
        {
          "output_type": "execute_result",
          "data": {
            "text/plain": [
              "array([       0,        1,        2, ..., 99999997, 99999998, 99999999])"
            ]
          },
          "metadata": {},
          "execution_count": 28
        }
      ]
    },
    {
      "cell_type": "code",
      "source": [
        "b"
      ],
      "metadata": {
        "colab": {
          "base_uri": "https://localhost:8080/"
        },
        "id": "rKRG2cW6-JlP",
        "outputId": "d7aeea1d-c5b2-4e4a-d245-7f068c101dff"
      },
      "execution_count": null,
      "outputs": [
        {
          "output_type": "execute_result",
          "data": {
            "text/plain": [
              "array([ 0,  1,  2,  3,  4,  5,  6,  7,  8,  9, 10, 11, 12, 13, 14, 15, 16,\n",
              "       17, 18, 19, 20, 21, 22, 23, 24, 25, 26, 27, 28, 29, 30, 31, 32, 33,\n",
              "       34, 35, 36, 37, 38, 39, 40, 41, 42, 43, 44, 45, 46, 47, 48, 49, 50,\n",
              "       51, 52, 53, 54, 55, 56, 57, 58, 59, 60, 61, 62, 63, 64, 65, 66, 67,\n",
              "       68, 69, 70, 71, 72, 73, 74, 75, 76, 77, 78, 79, 80, 81, 82, 83, 84,\n",
              "       85, 86, 87, 88, 89, 90, 91, 92, 93, 94, 95, 96, 97, 98, 99])"
            ]
          },
          "metadata": {},
          "execution_count": 29
        }
      ]
    },
    {
      "cell_type": "code",
      "source": [
        "a is b"
      ],
      "metadata": {
        "colab": {
          "base_uri": "https://localhost:8080/"
        },
        "id": "Ce0z07gF-Lhl",
        "outputId": "c91165c3-6941-4539-8ab9-8d97a39048e1"
      },
      "execution_count": null,
      "outputs": [
        {
          "output_type": "execute_result",
          "data": {
            "text/plain": [
              "False"
            ]
          },
          "metadata": {},
          "execution_count": 30
        }
      ]
    },
    {
      "cell_type": "code",
      "source": [
        "id(a) == id(b)"
      ],
      "metadata": {
        "colab": {
          "base_uri": "https://localhost:8080/"
        },
        "id": "r8IK2neg-N1t",
        "outputId": "e97f5698-f757-460f-f103-34c11b47d551"
      },
      "execution_count": null,
      "outputs": [
        {
          "output_type": "execute_result",
          "data": {
            "text/plain": [
              "False"
            ]
          },
          "metadata": {},
          "execution_count": 31
        }
      ]
    },
    {
      "cell_type": "code",
      "source": [
        "b.base is a"
      ],
      "metadata": {
        "colab": {
          "base_uri": "https://localhost:8080/"
        },
        "id": "V5BJhGxN-Qwd",
        "outputId": "80aee267-1bd8-4613-f379-5ef1b1a08f33"
      },
      "execution_count": null,
      "outputs": [
        {
          "output_type": "execute_result",
          "data": {
            "text/plain": [
              "False"
            ]
          },
          "metadata": {},
          "execution_count": 32
        }
      ]
    },
    {
      "cell_type": "code",
      "source": [
        "b.flags.owndata"
      ],
      "metadata": {
        "colab": {
          "base_uri": "https://localhost:8080/"
        },
        "id": "Qpp027ar-d_4",
        "outputId": "4bd2e5ac-bde0-4df6-f5c1-1ab3efadec24"
      },
      "execution_count": null,
      "outputs": [
        {
          "output_type": "execute_result",
          "data": {
            "text/plain": [
              "True"
            ]
          },
          "metadata": {},
          "execution_count": 33
        }
      ]
    },
    {
      "cell_type": "code",
      "source": [
        "import numpy as np\n",
        "a = np.array([1, 2, 3, 4, 5, 6])\n",
        "b = a[:2]\n",
        "b += 1\n",
        "print('a =', a, '; b =', b)"
      ],
      "metadata": {
        "colab": {
          "base_uri": "https://localhost:8080/"
        },
        "id": "56tE1KGy-k2r",
        "outputId": "6699821b-9e8a-44d0-c911-b2b4ec1c7847"
      },
      "execution_count": null,
      "outputs": [
        {
          "output_type": "stream",
          "name": "stdout",
          "text": [
            "a = [2 3 3 4 5 6] ; b = [2 3]\n"
          ]
        }
      ]
    },
    {
      "cell_type": "code",
      "source": [
        "a is b"
      ],
      "metadata": {
        "colab": {
          "base_uri": "https://localhost:8080/"
        },
        "id": "rST8IBY9-yfU",
        "outputId": "98f6117c-2cd4-4a82-aa44-36850d373a44"
      },
      "execution_count": null,
      "outputs": [
        {
          "output_type": "execute_result",
          "data": {
            "text/plain": [
              "False"
            ]
          },
          "metadata": {},
          "execution_count": 35
        }
      ]
    },
    {
      "cell_type": "code",
      "source": [
        "b.base is a"
      ],
      "metadata": {
        "colab": {
          "base_uri": "https://localhost:8080/"
        },
        "id": "L9k4c0uG-1t9",
        "outputId": "5f72c5ed-4b15-4ca6-bb69-93ccdc531822"
      },
      "execution_count": null,
      "outputs": [
        {
          "output_type": "execute_result",
          "data": {
            "text/plain": [
              "True"
            ]
          },
          "metadata": {},
          "execution_count": 36
        }
      ]
    },
    {
      "cell_type": "code",
      "source": [
        "b.flags.owndata"
      ],
      "metadata": {
        "id": "WfysutR5-4VV",
        "outputId": "e99b37f4-0e9a-4475-8a24-7a3dee4e8aec",
        "colab": {
          "base_uri": "https://localhost:8080/"
        }
      },
      "execution_count": null,
      "outputs": [
        {
          "output_type": "execute_result",
          "data": {
            "text/plain": [
              "False"
            ]
          },
          "metadata": {},
          "execution_count": 37
        }
      ]
    },
    {
      "cell_type": "code",
      "source": [
        "import numpy as np"
      ],
      "metadata": {
        "id": "0OZ2wg_fOktX"
      },
      "execution_count": null,
      "outputs": []
    },
    {
      "cell_type": "code",
      "source": [
        "x = np.arange(10)"
      ],
      "metadata": {
        "id": "C8d_drRj-7je"
      },
      "execution_count": null,
      "outputs": []
    },
    {
      "cell_type": "code",
      "source": [
        "x"
      ],
      "metadata": {
        "colab": {
          "base_uri": "https://localhost:8080/"
        },
        "id": "_Ybk6bQdL1HI",
        "outputId": "f963dae6-db5a-4a5a-8398-e1d2bef24a69"
      },
      "execution_count": null,
      "outputs": [
        {
          "output_type": "execute_result",
          "data": {
            "text/plain": [
              "array([0, 1, 2, 3, 4, 5, 6, 7, 8, 9])"
            ]
          },
          "metadata": {},
          "execution_count": 19
        }
      ]
    },
    {
      "cell_type": "code",
      "source": [
        "x[2]"
      ],
      "metadata": {
        "colab": {
          "base_uri": "https://localhost:8080/"
        },
        "id": "EONcQov5OpWz",
        "outputId": "c460af97-7467-412c-bbfe-a4cf95c04c70"
      },
      "execution_count": null,
      "outputs": [
        {
          "output_type": "execute_result",
          "data": {
            "text/plain": [
              "np.int64(2)"
            ]
          },
          "metadata": {},
          "execution_count": 4
        }
      ]
    },
    {
      "cell_type": "code",
      "source": [
        "x[-1]"
      ],
      "metadata": {
        "colab": {
          "base_uri": "https://localhost:8080/"
        },
        "id": "Wc2mAqwSOsHb",
        "outputId": "cb3899c7-439d-4eda-d00e-28f74415b4f9"
      },
      "execution_count": null,
      "outputs": [
        {
          "output_type": "execute_result",
          "data": {
            "text/plain": [
              "np.int64(9)"
            ]
          },
          "metadata": {},
          "execution_count": 5
        }
      ]
    },
    {
      "cell_type": "code",
      "source": [
        "x[len(x)-1]"
      ],
      "metadata": {
        "colab": {
          "base_uri": "https://localhost:8080/"
        },
        "id": "67Opy2P5OtDj",
        "outputId": "8a813bd0-3ac7-4716-e32f-b536376925a8"
      },
      "execution_count": null,
      "outputs": [
        {
          "output_type": "execute_result",
          "data": {
            "text/plain": [
              "np.int64(9)"
            ]
          },
          "metadata": {},
          "execution_count": 8
        }
      ]
    },
    {
      "cell_type": "code",
      "source": [
        "x[2:]"
      ],
      "metadata": {
        "colab": {
          "base_uri": "https://localhost:8080/"
        },
        "id": "XKBumY2nOypz",
        "outputId": "ac013c6c-2d2e-434f-8ecb-2995b51ee5a2"
      },
      "execution_count": null,
      "outputs": [
        {
          "output_type": "execute_result",
          "data": {
            "text/plain": [
              "array([2, 3, 4, 5, 6, 7, 8, 9])"
            ]
          },
          "metadata": {},
          "execution_count": 9
        }
      ]
    },
    {
      "cell_type": "code",
      "source": [
        "x[:5]"
      ],
      "metadata": {
        "colab": {
          "base_uri": "https://localhost:8080/"
        },
        "id": "NlRp0HCNO9gr",
        "outputId": "bcc39785-208d-4a48-e9c2-9ec55455aa5f"
      },
      "execution_count": null,
      "outputs": [
        {
          "output_type": "execute_result",
          "data": {
            "text/plain": [
              "array([0, 1, 2, 3, 4])"
            ]
          },
          "metadata": {},
          "execution_count": 10
        }
      ]
    },
    {
      "cell_type": "code",
      "source": [
        "x.shape"
      ],
      "metadata": {
        "colab": {
          "base_uri": "https://localhost:8080/"
        },
        "id": "3cHp_-CSPMay",
        "outputId": "758f03e3-a753-4005-ea26-4a361d986437"
      },
      "execution_count": null,
      "outputs": [
        {
          "output_type": "execute_result",
          "data": {
            "text/plain": [
              "(10,)"
            ]
          },
          "metadata": {},
          "execution_count": 11
        }
      ]
    },
    {
      "cell_type": "code",
      "source": [
        "x.size"
      ],
      "metadata": {
        "colab": {
          "base_uri": "https://localhost:8080/"
        },
        "id": "3HuZX1azPBej",
        "outputId": "92f90540-3c02-407d-cd4a-6f6c1f7cfc57"
      },
      "execution_count": null,
      "outputs": [
        {
          "output_type": "execute_result",
          "data": {
            "text/plain": [
              "10"
            ]
          },
          "metadata": {},
          "execution_count": 12
        }
      ]
    },
    {
      "cell_type": "code",
      "source": [
        "x.shape = (2, 5)"
      ],
      "metadata": {
        "id": "_RLiV7wUPPLr"
      },
      "execution_count": null,
      "outputs": []
    },
    {
      "cell_type": "code",
      "source": [
        "x"
      ],
      "metadata": {
        "colab": {
          "base_uri": "https://localhost:8080/"
        },
        "id": "ITNDsSG3Pq7T",
        "outputId": "86b163d2-b5e1-4e7f-94b0-1509bfec1e87"
      },
      "execution_count": null,
      "outputs": [
        {
          "output_type": "execute_result",
          "data": {
            "text/plain": [
              "array([[0, 1, 2, 3, 4],\n",
              "       [5, 6, 7, 8, 9]])"
            ]
          },
          "metadata": {},
          "execution_count": 14
        }
      ]
    },
    {
      "cell_type": "code",
      "source": [
        "y = x.reshape(2, 5)"
      ],
      "metadata": {
        "id": "81joy7cxPrVb"
      },
      "execution_count": null,
      "outputs": []
    },
    {
      "cell_type": "code",
      "source": [
        "np.shares_memory(x, y)"
      ],
      "metadata": {
        "id": "F5CE0kHPP_Xr"
      },
      "execution_count": null,
      "outputs": []
    },
    {
      "cell_type": "code",
      "source": [
        "a = np.array([1, 2, 3])"
      ],
      "metadata": {
        "id": "b_4EHRcEQ5ek"
      },
      "execution_count": null,
      "outputs": []
    },
    {
      "cell_type": "code",
      "source": [
        "b = a[:]"
      ],
      "metadata": {
        "id": "C2GFyuyVQ8aJ"
      },
      "execution_count": null,
      "outputs": []
    },
    {
      "cell_type": "code",
      "source": [
        "a is b"
      ],
      "metadata": {
        "colab": {
          "base_uri": "https://localhost:8080/"
        },
        "id": "YGQ-c_M4Q-iZ",
        "outputId": "f38fa8d3-16ac-48da-a43f-8c600039ecc2"
      },
      "execution_count": null,
      "outputs": [
        {
          "output_type": "execute_result",
          "data": {
            "text/plain": [
              "False"
            ]
          },
          "metadata": {},
          "execution_count": 23
        }
      ]
    },
    {
      "cell_type": "code",
      "source": [
        "b.base is a"
      ],
      "metadata": {
        "colab": {
          "base_uri": "https://localhost:8080/"
        },
        "id": "ioLqZt4IRB_B",
        "outputId": "6c3062c2-af16-4aa6-9019-131fa654f5eb"
      },
      "execution_count": null,
      "outputs": [
        {
          "output_type": "execute_result",
          "data": {
            "text/plain": [
              "True"
            ]
          },
          "metadata": {},
          "execution_count": 24
        }
      ]
    },
    {
      "cell_type": "code",
      "source": [
        "np.shares_memory(a, b)"
      ],
      "metadata": {
        "colab": {
          "base_uri": "https://localhost:8080/"
        },
        "id": "5R_nS8ZCRD_p",
        "outputId": "90cc8ce7-ae35-49fc-cb24-bd81c6859f12"
      },
      "execution_count": null,
      "outputs": [
        {
          "output_type": "execute_result",
          "data": {
            "text/plain": [
              "True"
            ]
          },
          "metadata": {},
          "execution_count": 25
        }
      ]
    },
    {
      "cell_type": "code",
      "source": [
        "a = np.arange(6).reshape(2, 3)\n",
        "b = a[:, 1:]  # b is a *view* of a\n",
        "\n",
        "print(a is b)  # False -> different headers (different Python objects)\n",
        "print(b.base is a) #False -> a.base is not None, np.arange(6) creates the bae of a so a is the view of np.arange(6) and b.base is also np.arange(6)\n",
        "print(np.shares_memory(a, b))  # True -> same underlying data buffer\n",
        "\n",
        "b[0, 0] = 99\n",
        "print(b)\n",
        "print(a)\n"
      ],
      "metadata": {
        "colab": {
          "base_uri": "https://localhost:8080/"
        },
        "id": "-hTH9W0tRGTR",
        "outputId": "58d0ce16-dc7e-4d62-edbe-98b86a1f2cf5"
      },
      "execution_count": null,
      "outputs": [
        {
          "output_type": "stream",
          "name": "stdout",
          "text": [
            "False\n",
            "False\n",
            "True\n",
            "[[99  2]\n",
            " [ 4  5]]\n",
            "[[ 0 99  2]\n",
            " [ 3  4  5]]\n"
          ]
        }
      ]
    },
    {
      "cell_type": "code",
      "source": [
        "x = np.array([1,2,3,4])\n",
        "print(x.base is None)\n",
        "\n",
        "x = np.arange(10)\n",
        "print(x.base is None)\n",
        "\n",
        "x = np.arange(10).reshape(2, 5)\n",
        "print(x.base is None)\n",
        "#reshape usually returns a view of the original array, not a copy, if possible.\n",
        "#In this case, reshaping from (10,) to (2, 5) is possible without copying data, so x becomes a view.\n"
      ],
      "metadata": {
        "colab": {
          "base_uri": "https://localhost:8080/"
        },
        "id": "AQfX10bFbFOb",
        "outputId": "fb6b04f1-7460-4b72-a7d6-17717e71ba9e"
      },
      "execution_count": null,
      "outputs": [
        {
          "output_type": "stream",
          "name": "stdout",
          "text": [
            "True\n",
            "True\n",
            "False\n"
          ]
        }
      ]
    },
    {
      "cell_type": "code",
      "source": [
        "x = np.arange(10)\n",
        "y = x.reshape(2, 5)\n",
        "\n",
        "print(x.shape)\n",
        "print(y.shape)\n",
        "print(x.base is None)\n",
        "print(y.base is x)\n",
        "print(np.shares_memory(x, y))"
      ],
      "metadata": {
        "colab": {
          "base_uri": "https://localhost:8080/"
        },
        "id": "CKs_f6f3dnVw",
        "outputId": "adf15bca-a356-427a-de4c-fc7f8dccdecb"
      },
      "execution_count": null,
      "outputs": [
        {
          "output_type": "stream",
          "name": "stdout",
          "text": [
            "(10,)\n",
            "(2, 5)\n",
            "True\n",
            "True\n",
            "True\n"
          ]
        }
      ]
    },
    {
      "cell_type": "code",
      "source": [
        "x = np.arange(10)\n",
        "print(x)\n",
        "print(x.shape, end=f'\\n{30*'-'}\\n')\n",
        "\n",
        "x.shape = (2, 5)\n",
        "print(x)\n",
        "print(x.shape, end=f'\\n{30*'-'}\\n')\n",
        "\n",
        "# Note that if one indexes a multidimensional array with fewer indices than dimensions, one gets a subdimensional array.\n",
        "print(x[0])\n",
        "print(x[0, :])\n",
        "print(x[1])\n",
        "print(x[-1])\n",
        "print(x[-2], end=f'\\n{30*'-'}\\n')\n",
        "\n",
        "print(x[0, -2]) #same with x[0][-2]\n",
        "print(x[-1, 2])\n",
        "print(x[-2, -4], end=f'\\n{30*'-'}\\n')\n"
      ],
      "metadata": {
        "colab": {
          "base_uri": "https://localhost:8080/"
        },
        "id": "LXBfc48sh3dO",
        "outputId": "a1d487e2-6d65-4a4b-8fb1-8c5af0d6b95e"
      },
      "execution_count": null,
      "outputs": [
        {
          "output_type": "stream",
          "name": "stdout",
          "text": [
            "[0 1 2 3 4 5 6 7 8 9]\n",
            "(10,)\n",
            "------------------------------\n",
            "[[0 1 2 3 4]\n",
            " [5 6 7 8 9]]\n",
            "(2, 5)\n",
            "------------------------------\n",
            "[0 1 2 3 4]\n",
            "[0 1 2 3 4]\n",
            "[5 6 7 8 9]\n",
            "[5 6 7 8 9]\n",
            "[0 1 2 3 4]\n",
            "------------------------------\n",
            "3\n",
            "7\n",
            "1\n",
            "------------------------------\n"
          ]
        }
      ]
    },
    {
      "cell_type": "code",
      "source": [
        "import numpy as np"
      ],
      "metadata": {
        "id": "rVmlgZrZjy8C"
      },
      "execution_count": null,
      "outputs": []
    },
    {
      "cell_type": "code",
      "source": [
        "x = np.array([0, 1, 2, 3, 4, 5, 6, 7, 8, 9])\n",
        "\n",
        "print(x[-2: 20])\n",
        "print(x[-3:3:-1])\n",
        "print(x[7:3:-1])\n",
        "print(x[3:7:-1])\n",
        "\n",
        "# Negative i and j are interpreted as n + i and n + j where n is the number of elements in the corresponding dimension.\n",
        "# Negative k makes stepping go towards smaller indices"
      ],
      "metadata": {
        "colab": {
          "base_uri": "https://localhost:8080/"
        },
        "id": "ZMV1Ol_BpJT0",
        "outputId": "f6cd56ba-334b-4f67-a439-a8fa6a9f77bd"
      },
      "execution_count": null,
      "outputs": [
        {
          "output_type": "stream",
          "name": "stdout",
          "text": [
            "[8 9]\n",
            "[7 6 5 4]\n",
            "[7 6 5 4]\n",
            "[]\n"
          ]
        }
      ]
    },
    {
      "cell_type": "code",
      "source": [
        "x = np.array([0, 1, 2, 3, 4, 5, 6, 7, 8, 9])\n",
        "\n",
        "print(x[5:]) #If j is not given it defaults to n for k > 0\n",
        "print(x[:5]) #if i is not given it defaults to 0 for k > 0\n",
        "\n",
        "print(x[5::-1]) # If j is not given it defaults to -n-1 for k < 0\n",
        "print(x[:5:-1]) # if i is not given it defaults to  n - 1 for k < 0\n"
      ],
      "metadata": {
        "id": "po996cUSsOmU",
        "colab": {
          "base_uri": "https://localhost:8080/"
        },
        "outputId": "004c4dee-0d33-4801-ffb7-14483d43cabe"
      },
      "execution_count": null,
      "outputs": [
        {
          "output_type": "stream",
          "name": "stdout",
          "text": [
            "[5 6 7 8 9]\n",
            "[0 1 2 3 4]\n",
            "[5 4 3 2 1 0]\n",
            "[9 8 7 6]\n"
          ]
        }
      ]
    },
    {
      "cell_type": "code",
      "source": [
        "# if k>0, and i>=j,the slicing return an empty array\n",
        "# if k>0, and i>=j,the slicing return a none empty array\n",
        "x = np.arange(10)\n",
        "print(x[7:3:1])\n",
        "print(x[7:3:-1])"
      ],
      "metadata": {
        "colab": {
          "base_uri": "https://localhost:8080/"
        },
        "id": "APIcZVr8E7V3",
        "outputId": "ebde2040-51e7-4758-8c96-8fe8f4cd3992"
      },
      "execution_count": null,
      "outputs": [
        {
          "output_type": "stream",
          "name": "stdout",
          "text": [
            "[]\n",
            "[7 6 5 4]\n"
          ]
        }
      ]
    },
    {
      "cell_type": "code",
      "source": [
        "import numpy as np"
      ],
      "metadata": {
        "id": "gutdeDRKZN_u"
      },
      "execution_count": null,
      "outputs": []
    },
    {
      "cell_type": "code",
      "source": [],
      "metadata": {
        "id": "7j5pIoeodNo3"
      },
      "execution_count": null,
      "outputs": []
    },
    {
      "cell_type": "markdown",
      "source": [
        "\n",
        "\n",
        "*  If the number of objects in the selection tuple is less than N, then : is assumed for any subsequent dimensions.\n",
        "\n",
        "*   An integer, i, returns the same values as i:i+1 except the dimensionality of the returned object is reduced by 1. In particular, a selection tuple with the p-th element an integer (and all other entries :) returns the corresponding sub-array with dimension N - 1. If N = 1 then the returned object is an array scalar. simple explanation:\n",
        "\n",
        "     When you index an array with multiple indices separated by commas — like x[:, 1, :] — you’re passing a tuple of indices (one for each dimension)\n",
        "     If your array has N dimensions, and you use an integer for one of those axes, NumPy removes that axis from the result.\n",
        "\n",
        "\n",
        "\n",
        "\n"
      ],
      "metadata": {
        "id": "-dacA2OGdOd4"
      }
    },
    {
      "cell_type": "code",
      "source": [
        "x = np.array([[[1],[2],[3]], [[4],[5],[6]]])\n",
        "print(x.shape, end=f'\\n{30*'-'}\\n')\n",
        "\n",
        "\n",
        "\n",
        "print(x[1:2], end=f'\\n{30*'-'}\\n') #x[1:2, :, :]\n",
        "print(x[1], end=f'\\n{30*'-'}\\n') #x[1, :, :]\n",
        "print(x[:, 1], end=f'\\n{30*'-'}\\n') #x[:, 1, :]\n",
        "print(x[0:1, 1:], end=f'\\n{30*'-'}\\n') #x[0:1, 1:, :]\n",
        "print(x[0, 1:], end=f'\\n{30*'-'}\\n') #x[0, 1:, :]"
      ],
      "metadata": {
        "colab": {
          "base_uri": "https://localhost:8080/"
        },
        "id": "nsJjbGPIY4uv",
        "outputId": "13e7f9bc-b167-4550-d4bc-4d7587c5b39d"
      },
      "execution_count": null,
      "outputs": [
        {
          "output_type": "stream",
          "name": "stdout",
          "text": [
            "(2, 3, 1)\n",
            "------------------------------\n",
            "[[[4]\n",
            "  [5]\n",
            "  [6]]]\n",
            "------------------------------\n",
            "[[4]\n",
            " [5]\n",
            " [6]]\n",
            "------------------------------\n",
            "[[2]\n",
            " [5]]\n",
            "------------------------------\n",
            "[[[2]\n",
            "  [3]]]\n",
            "------------------------------\n",
            "[[2]\n",
            " [3]]\n",
            "------------------------------\n"
          ]
        }
      ]
    },
    {
      "cell_type": "markdown",
      "source": [
        "\n",
        "\n",
        "*   If the selection tuple has all entries : except the p-th entry which is a slice object i:j:k, then the returned array has dimension N formed by stacking, along the p-th axis, the sub-arrays returned by integer indexing of elements i, i+k, …, i + (m - 1) k < j.\n",
        "\n"
      ],
      "metadata": {
        "id": "giHBgQnrfrBp"
      }
    },
    {
      "cell_type": "code",
      "source": [
        "x = np.array([\n",
        "    [[1],[2],[3]],\n",
        "    [[4],[5],[6]],\n",
        "    [[7],[8],[9]],\n",
        "    [[10],[11],[12]]\n",
        "])\n",
        "print(x)\n",
        "print(x.shape, end=f'\\n{30*'-'}\\n')\n",
        "print(x[::2], end=f'\\n{30*'-'}\\n')\n",
        "print(x[::2, :, :], end=f'\\n{30*'-'}\\n')\n",
        "# print(x.shape, end=f'\\n{30*'-'}\\n')\n",
        "# print(x.shape, end=f'\\n{30*'-'}\\n')\n"
      ],
      "metadata": {
        "colab": {
          "base_uri": "https://localhost:8080/"
        },
        "id": "skZ-TWidZVJT",
        "outputId": "467544cb-8aac-444d-a4c7-dd7ab9d0174d"
      },
      "execution_count": null,
      "outputs": [
        {
          "output_type": "stream",
          "name": "stdout",
          "text": [
            "[[[ 1]\n",
            "  [ 2]\n",
            "  [ 3]]\n",
            "\n",
            " [[ 4]\n",
            "  [ 5]\n",
            "  [ 6]]\n",
            "\n",
            " [[ 7]\n",
            "  [ 8]\n",
            "  [ 9]]\n",
            "\n",
            " [[10]\n",
            "  [11]\n",
            "  [12]]]\n",
            "(4, 3, 1)\n",
            "------------------------------\n",
            "[[[1]\n",
            "  [2]\n",
            "  [3]]\n",
            "\n",
            " [[7]\n",
            "  [8]\n",
            "  [9]]]\n",
            "------------------------------\n",
            "[[[1]\n",
            "  [2]\n",
            "  [3]]\n",
            "\n",
            " [[7]\n",
            "  [8]\n",
            "  [9]]]\n",
            "------------------------------\n"
          ]
        }
      ]
    },
    {
      "cell_type": "markdown",
      "source": [
        "\n",
        "\n",
        "*   List itemBasic slicing with more than one non-: entry in the slicing tuple, acts like repeated application of slicing using a single non-: entry, where the non-: entries are successively taken (with all other non-: entries replaced by :). Thus, x[ind1, ..., ind2,:] acts like x[ind1][..., ind2, :] under basic slicing.\n",
        "\n",
        "Warning\n",
        "\n",
        "The above is not true for advanced indexing.\n",
        "\n"
      ],
      "metadata": {
        "id": "qYS3JV4DghPp"
      }
    },
    {
      "cell_type": "code",
      "source": [
        "x = np.array([\n",
        "    [[1, 2, 3],\n",
        "     [4, 5, 6],\n",
        "     [7, 8, 9]],\n",
        "\n",
        "    [[10, 11, 12],\n",
        "     [13, 14, 15],\n",
        "     [16, 17, 18]]\n",
        "])\n",
        "print(x.shape)  # (2, 3, 3)\n",
        "print(x[1][0:2, :]) # same as x[1, 0:2, :]\n"
      ],
      "metadata": {
        "colab": {
          "base_uri": "https://localhost:8080/"
        },
        "id": "ZJlGmbvwZV7j",
        "outputId": "2e2adda2-bb16-4357-f21a-a7c1564ce7b8"
      },
      "execution_count": null,
      "outputs": [
        {
          "output_type": "stream",
          "name": "stdout",
          "text": [
            "(2, 3, 3)\n",
            "[[10 11 12]\n",
            " [13 14 15]]\n"
          ]
        }
      ]
    },
    {
      "cell_type": "markdown",
      "source": [
        "\n",
        "\n",
        "*   Ellipsis expands to the number of : objects needed for the selection tuple to index all dimensions. In most cases, this means that the length of the expanded selection tuple is x.ndim. There may only be a single ellipsis present\n",
        "\n",
        "\n"
      ],
      "metadata": {
        "id": "X5sSf6hfn8m7"
      }
    },
    {
      "cell_type": "code",
      "source": [
        "import numpy as np\n",
        "x = np.array([[10, 20],\n",
        "              [30, 40],\n",
        "              [50, 60]])\n",
        "\n",
        "print(x[..., 0]) #same as x[:,0]"
      ],
      "metadata": {
        "colab": {
          "base_uri": "https://localhost:8080/"
        },
        "id": "r8ObmUTZgljO",
        "outputId": "3e650219-88d8-43da-9cfc-b1c163cbfb35"
      },
      "execution_count": null,
      "outputs": [
        {
          "output_type": "stream",
          "name": "stdout",
          "text": [
            "[10 30 50]\n",
            "[10 30 50]\n"
          ]
        }
      ]
    },
    {
      "cell_type": "markdown",
      "source": [
        "\n",
        "\n",
        "*   Each newaxis object in the selection tuple serves to expand the dimensions of the resulting selection by one unit-length dimension. The added dimension is the position of the newaxis object in the selection tuple. newaxis is an alias for None, and None can be used in place of this with the same result:</br>\n",
        "\n",
        "in simple words:\n",
        "np.newaxis (or None) can be inserted into a slice to add a new axis (dimension) to an array.\n",
        "\n",
        "The new axis will have length 1.\n",
        "\n",
        "Where you place the newaxis in the selection tuple determines where the new dimension appears.\n",
        "\n"
      ],
      "metadata": {
        "id": "TFhLrLiSqwaB"
      }
    },
    {
      "cell_type": "code",
      "source": [
        "x = np.array([1, 2, 3])\n",
        "print(x.shape)\n",
        "print(x[:])\n",
        "print(x[:, np.newaxis])"
      ],
      "metadata": {
        "colab": {
          "base_uri": "https://localhost:8080/"
        },
        "id": "TRdUc27Bq255",
        "outputId": "d6462038-7b50-43fd-e3c9-30abdc58698a"
      },
      "execution_count": null,
      "outputs": [
        {
          "output_type": "stream",
          "name": "stdout",
          "text": [
            "(3,)\n",
            "[1 2 3]\n",
            "[[1]\n",
            " [2]\n",
            " [3]]\n"
          ]
        }
      ]
    },
    {
      "cell_type": "markdown",
      "source": [
        "There are two types of advanced indexing: integer and Boolean.<br>\n",
        "- Advanced indexing always returns a copy of the data (contrast with - basic slicing that returns a view).<br>\n",
        "- When two 1D integer arrays are used like this, NumPy pairs them element-by-element (like zipping them together)\n",
        "- In this case, if the index arrays have a matching shape, and there is an index array for each dimension of the array being indexed, the resultant array has the same shape as the index arrays, and the values correspond to the index set for each position in the index arrays"
      ],
      "metadata": {
        "id": "Z_ERruzQ4Bl9"
      }
    },
    {
      "cell_type": "code",
      "source": [
        "x = np.arange(10, 1, -1)\n",
        "print(x)\n",
        "print(x[[1, 7]])\n",
        "print(x[np.array([1, 7])])\n",
        "print(x[(1, 7), ])\n",
        "# print(x[(1, 7)]) equevelent to below line\n",
        "# print(x[1, 7]) it raise following error: IndexError: too many indices for array: array is 1-dimensional, but 2 were indexed"
      ],
      "metadata": {
        "colab": {
          "base_uri": "https://localhost:8080/"
        },
        "id": "gFJF_L321C3z",
        "outputId": "0d9b0cdf-b488-4a83-fb15-f88b3e105702"
      },
      "execution_count": null,
      "outputs": [
        {
          "output_type": "stream",
          "name": "stdout",
          "text": [
            "[10  9  8  7  6  5  4  3  2]\n",
            "[9 3]\n",
            "[9 3]\n",
            "[9 3]\n"
          ]
        }
      ]
    },
    {
      "cell_type": "code",
      "source": [
        "x = np.array([[1, 2], [3, 4], [5, 6]])\n",
        "print(x, end=f'\\n{30*'-'}\\n')\n",
        "print(x[np.array([1, -1])], end=f'\\n{30*'-'}\\n')\n",
        "print(x[np.array([1, -1]), :], end=f'\\n{30*'-'}\\n')\n",
        "print(x[[-3, 1], [0]])"
      ],
      "metadata": {
        "colab": {
          "base_uri": "https://localhost:8080/"
        },
        "id": "xNtxif0l1K7M",
        "outputId": "ba935e69-2a6b-4349-96d5-4c0491a6dd6d"
      },
      "execution_count": null,
      "outputs": [
        {
          "output_type": "stream",
          "name": "stdout",
          "text": [
            "[[1 2]\n",
            " [3 4]\n",
            " [5 6]]\n",
            "------------------------------\n",
            "[[3 4]\n",
            " [5 6]]\n",
            "------------------------------\n",
            "[[3 4]\n",
            " [5 6]]\n",
            "------------------------------\n",
            "[1 3]\n"
          ]
        }
      ]
    },
    {
      "cell_type": "markdown",
      "source": [
        "- If the index arrays do not have the same shape, there is an attempt to broadcast them to the same shape. If they cannot be broadcast to the same shape, an exception is raised\n",
        "- The broadcasting mechanism permits index arrays to be combined with scalars for other indices. The effect is that the scalar value is used for all the corresponding values of the index arrays\n",
        "- In general, the shape of the resultant array will be the concatenation of the shape of the index array (or the shape that all the index arrays were broadcast to) with the shape of any unused dimensions (those not indexed) in the array being indexed."
      ],
      "metadata": {
        "id": "Jy3sqNqk-tzn"
      }
    },
    {
      "cell_type": "code",
      "source": [
        "y = np.arange(35).reshape(5, 7)\n",
        "print(y)\n",
        "y[np.array([0, 2, 4]), np.array([0, 1])]"
      ],
      "metadata": {
        "colab": {
          "base_uri": "https://localhost:8080/",
          "height": 263
        },
        "id": "7nhd67D38uhF",
        "outputId": "a0649e0a-d1bf-4a7c-9419-754dc4056271"
      },
      "execution_count": null,
      "outputs": [
        {
          "output_type": "stream",
          "name": "stdout",
          "text": [
            "[[ 0  1  2  3  4  5  6]\n",
            " [ 7  8  9 10 11 12 13]\n",
            " [14 15 16 17 18 19 20]\n",
            " [21 22 23 24 25 26 27]\n",
            " [28 29 30 31 32 33 34]]\n"
          ]
        },
        {
          "output_type": "error",
          "ename": "IndexError",
          "evalue": "shape mismatch: indexing arrays could not be broadcast together with shapes (3,) (2,) ",
          "traceback": [
            "\u001b[0;31m---------------------------------------------------------------------------\u001b[0m",
            "\u001b[0;31mIndexError\u001b[0m                                Traceback (most recent call last)",
            "\u001b[0;32m/tmp/ipython-input-2652214259.py\u001b[0m in \u001b[0;36m<cell line: 0>\u001b[0;34m()\u001b[0m\n\u001b[1;32m      1\u001b[0m \u001b[0my\u001b[0m \u001b[0;34m=\u001b[0m \u001b[0mnp\u001b[0m\u001b[0;34m.\u001b[0m\u001b[0marange\u001b[0m\u001b[0;34m(\u001b[0m\u001b[0;36m35\u001b[0m\u001b[0;34m)\u001b[0m\u001b[0;34m.\u001b[0m\u001b[0mreshape\u001b[0m\u001b[0;34m(\u001b[0m\u001b[0;36m5\u001b[0m\u001b[0;34m,\u001b[0m \u001b[0;36m7\u001b[0m\u001b[0;34m)\u001b[0m\u001b[0;34m\u001b[0m\u001b[0;34m\u001b[0m\u001b[0m\n\u001b[1;32m      2\u001b[0m \u001b[0mprint\u001b[0m\u001b[0;34m(\u001b[0m\u001b[0my\u001b[0m\u001b[0;34m)\u001b[0m\u001b[0;34m\u001b[0m\u001b[0;34m\u001b[0m\u001b[0m\n\u001b[0;32m----> 3\u001b[0;31m \u001b[0my\u001b[0m\u001b[0;34m[\u001b[0m\u001b[0mnp\u001b[0m\u001b[0;34m.\u001b[0m\u001b[0marray\u001b[0m\u001b[0;34m(\u001b[0m\u001b[0;34m[\u001b[0m\u001b[0;36m0\u001b[0m\u001b[0;34m,\u001b[0m \u001b[0;36m2\u001b[0m\u001b[0;34m,\u001b[0m \u001b[0;36m4\u001b[0m\u001b[0;34m]\u001b[0m\u001b[0;34m)\u001b[0m\u001b[0;34m,\u001b[0m \u001b[0mnp\u001b[0m\u001b[0;34m.\u001b[0m\u001b[0marray\u001b[0m\u001b[0;34m(\u001b[0m\u001b[0;34m[\u001b[0m\u001b[0;36m0\u001b[0m\u001b[0;34m,\u001b[0m \u001b[0;36m1\u001b[0m\u001b[0;34m]\u001b[0m\u001b[0;34m)\u001b[0m\u001b[0;34m]\u001b[0m\u001b[0;34m\u001b[0m\u001b[0;34m\u001b[0m\u001b[0m\n\u001b[0m",
            "\u001b[0;31mIndexError\u001b[0m: shape mismatch: indexing arrays could not be broadcast together with shapes (3,) (2,) "
          ]
        }
      ]
    },
    {
      "cell_type": "code",
      "source": [
        "y = np.arange(35).reshape(5, 7)\n",
        "print(y)\n",
        "print(y[np.array([0, 2, 4])])\n",
        "print(y[np.array([0, 2, 4]), 1])"
      ],
      "metadata": {
        "colab": {
          "base_uri": "https://localhost:8080/"
        },
        "id": "NNy-6kKH70qj",
        "outputId": "9743a6f3-9fce-40d8-ca43-49c3500a9690"
      },
      "execution_count": null,
      "outputs": [
        {
          "output_type": "stream",
          "name": "stdout",
          "text": [
            "[[ 0  1  2  3  4  5  6]\n",
            " [ 7  8  9 10 11 12 13]\n",
            " [14 15 16 17 18 19 20]\n",
            " [21 22 23 24 25 26 27]\n",
            " [28 29 30 31 32 33 34]]\n",
            "[[ 0  1  2  3  4  5  6]\n",
            " [14 15 16 17 18 19 20]\n",
            " [28 29 30 31 32 33 34]]\n",
            "[ 1 15 29]\n"
          ]
        }
      ]
    },
    {
      "cell_type": "code",
      "source": [
        "#want to return corner elements\n",
        "x = np.array([[ 0,  1,  2],\n",
        "              [ 3,  4,  5],\n",
        "              [ 6,  7,  8],\n",
        "              [ 9, 10, 11]])\n",
        "# first solution\n",
        "print(x[[0, 0, 3, 3], [0, 2, 0, 2]])\n",
        "\n",
        "# second solution\n",
        "rows = np.array([0, 3])\n",
        "columns = np.array([0, 2])\n",
        "print(x[rows[:, np.newaxis], columns])\n",
        "\n",
        "#thitd solution (read later)\n",
        "x[np.ix_(rows, columns)]"
      ],
      "metadata": {
        "colab": {
          "base_uri": "https://localhost:8080/"
        },
        "id": "egUhDN1xBWGu",
        "outputId": "a291abda-e138-49ea-e1cd-168512faa0b6"
      },
      "execution_count": null,
      "outputs": [
        {
          "output_type": "stream",
          "name": "stdout",
          "text": [
            "[ 0  2  9 11]\n",
            "[[ 0  2]\n",
            " [ 9 11]]\n"
          ]
        },
        {
          "output_type": "execute_result",
          "data": {
            "text/plain": [
              "array([[ 0,  2],\n",
              "       [ 9, 11]])"
            ]
          },
          "metadata": {},
          "execution_count": 34
        }
      ]
    },
    {
      "cell_type": "code",
      "source": [
        "import numpy as np"
      ],
      "metadata": {
        "id": "WUZ-IsNi6WYm"
      },
      "execution_count": null,
      "outputs": []
    },
    {
      "cell_type": "code",
      "source": [
        "x = np.array([0, 1, 2, 0, 10])\n",
        "print(x)\n",
        "print(x[np.array([True, True, False, False, True])])\n",
        "print(x[[True, True, False, False, True]])"
      ],
      "metadata": {
        "colab": {
          "base_uri": "https://localhost:8080/"
        },
        "id": "6qodHGrg5eZU",
        "outputId": "5c24a9c4-4d5a-40a8-b9bc-3680b592d54c"
      },
      "execution_count": null,
      "outputs": [
        {
          "output_type": "stream",
          "name": "stdout",
          "text": [
            "[ 0  1  2  0 10]\n",
            "[ 0  1 10]\n",
            "[ 0  1 10]\n"
          ]
        }
      ]
    },
    {
      "cell_type": "code",
      "source": [
        "x = np.array([0, 1, 2, 0, 10])\n",
        "print(x[True, False, True, False, False])"
      ],
      "metadata": {
        "colab": {
          "base_uri": "https://localhost:8080/"
        },
        "id": "3dAVoXby7ZoZ",
        "outputId": "2309f14b-c77a-4c1e-8b23-479a41db0ab9"
      },
      "execution_count": null,
      "outputs": [
        {
          "output_type": "stream",
          "name": "stdout",
          "text": [
            "[]\n"
          ]
        }
      ]
    },
    {
      "cell_type": "markdown",
      "source": [
        "The resulting array will have the same number of dimensions as the input array with the greatest number of dimensions, where the size of each dimension is the largest size of the corresponding dimension among the input arrays. Note that missing dimensions are assumed to have size one"
      ],
      "metadata": {
        "id": "H5xqqf24W7xT"
      }
    },
    {
      "cell_type": "markdown",
      "source": [
        "- If obj.ndim == x.ndim, x[obj] returns a 1-dimensional array filled with the elements of x corresponding to the True values of obj\n",
        "- x and obj (the boolean array) must have the same number of dimensions (obj.ndim == x.ndim)\n",
        "\n",
        "- but their shapes don’t necessarily have to be exactly the same — as long as they are broadcastable to the same shape.\n",
        "\n",
        "scenarios:\n",
        "- Mask has exactly the same shape as x\n",
        "- If the mask is 1D and its length equals the number of rows in x (the first dimension), NumPy interprets that as: “Select the rows where the mask is True.”"
      ],
      "metadata": {
        "id": "IKx0Lj-6JCiB"
      }
    },
    {
      "cell_type": "code",
      "source": [
        "# Q - one may wish to select all entries from an array which are not numpy.nan\n",
        "\n",
        "x = np.array([[1., 2.], [np.nan, 3.], [np.nan, np.nan]])\n",
        "print(~np.isnan(x)) #indicate selection object\n",
        "print(x[~np.isnan(x)])"
      ],
      "metadata": {
        "colab": {
          "base_uri": "https://localhost:8080/"
        },
        "id": "UkyFHHSZF1hd",
        "outputId": "f7dff4e0-8655-496b-b170-64ad6537fd07"
      },
      "execution_count": null,
      "outputs": [
        {
          "output_type": "stream",
          "name": "stdout",
          "text": [
            "[[ True  True]\n",
            " [False  True]\n",
            " [False False]]\n",
            "[1. 2. 3.]\n"
          ]
        }
      ]
    },
    {
      "cell_type": "code",
      "source": [
        "# Q -  add a constant (number 20) to all negative elements\n",
        "\n",
        "x = np.array([1., -1., -2., 3])\n",
        "print(x < 0)\n",
        "x[x < 0] += 20\n",
        "print(x)"
      ],
      "metadata": {
        "colab": {
          "base_uri": "https://localhost:8080/"
        },
        "id": "HLg2xFn7JTEe",
        "outputId": "c911411c-65c3-44b4-a4b6-fbc4874754ea"
      },
      "execution_count": null,
      "outputs": [
        {
          "output_type": "stream",
          "name": "stdout",
          "text": [
            "[False  True  True False]\n",
            "[ 1. 19. 18.  3.]\n"
          ]
        }
      ]
    },
    {
      "cell_type": "code",
      "source": [
        "x = np.arange(12).reshape(3, 4)\n",
        "# x =\n",
        "# [[ 0,  1,  2,  3],\n",
        "#  [ 4,  5,  6,  7],\n",
        "#  [ 8,  9, 10, 11]]\n",
        "\n",
        "obj = np.array([True, False, True])  # shape (3,)\n",
        "\n",
        "# print(x + obj) #raise error - there are not brodcastable\n",
        "print(x[obj]) #equal to x[obj, :]"
      ],
      "metadata": {
        "colab": {
          "base_uri": "https://localhost:8080/"
        },
        "id": "ydbt8kecNh1S",
        "outputId": "38e51315-ce73-42cd-df1d-62a236525b19"
      },
      "execution_count": null,
      "outputs": [
        {
          "output_type": "stream",
          "name": "stdout",
          "text": [
            "[[ 0  1  2  3]\n",
            " [ 8  9 10 11]]\n"
          ]
        }
      ]
    },
    {
      "cell_type": "code",
      "source": [
        "x = np.arange(12).reshape(3, 4)\n",
        "# x =\n",
        "# [[ 0,  1,  2,  3],\n",
        "#  [ 4,  5,  6,  7],\n",
        "#  [ 8,  9, 10, 11]]\n",
        "\n",
        "obj = np.array([[True], [False], [True]])  # shape (3, 1)\n",
        "\n",
        "print(x * obj) # are broadcastable\n",
        "print(x[obj]) #raise error: It does not broadcast the mask across dimensions automatically when used directly as x[obj].\n"
      ],
      "metadata": {
        "colab": {
          "base_uri": "https://localhost:8080/",
          "height": 228
        },
        "id": "Ikpn-QoaTe0V",
        "outputId": "dd575d41-2a26-4930-ae96-dfb822047ea2"
      },
      "execution_count": null,
      "outputs": [
        {
          "output_type": "stream",
          "name": "stdout",
          "text": [
            "[[ 0  1  2  3]\n",
            " [ 0  0  0  0]\n",
            " [ 8  9 10 11]]\n"
          ]
        },
        {
          "output_type": "error",
          "ename": "IndexError",
          "evalue": "boolean index did not match indexed array along axis 1; size of axis is 4 but size of corresponding boolean axis is 1",
          "traceback": [
            "\u001b[0;31m---------------------------------------------------------------------------\u001b[0m",
            "\u001b[0;31mIndexError\u001b[0m                                Traceback (most recent call last)",
            "\u001b[0;32m/tmp/ipython-input-583661495.py\u001b[0m in \u001b[0;36m<cell line: 0>\u001b[0;34m()\u001b[0m\n\u001b[1;32m      8\u001b[0m \u001b[0;34m\u001b[0m\u001b[0m\n\u001b[1;32m      9\u001b[0m \u001b[0mprint\u001b[0m\u001b[0;34m(\u001b[0m\u001b[0mx\u001b[0m \u001b[0;34m*\u001b[0m \u001b[0mobj\u001b[0m\u001b[0;34m)\u001b[0m \u001b[0;31m# are broadcastable\u001b[0m\u001b[0;34m\u001b[0m\u001b[0;34m\u001b[0m\u001b[0m\n\u001b[0;32m---> 10\u001b[0;31m \u001b[0mprint\u001b[0m\u001b[0;34m(\u001b[0m\u001b[0mx\u001b[0m\u001b[0;34m[\u001b[0m\u001b[0mobj\u001b[0m\u001b[0;34m]\u001b[0m\u001b[0;34m)\u001b[0m \u001b[0;31m#raise error: It does not broadcast the mask across dimensions automatically when used directly as x[obj].\u001b[0m\u001b[0;34m\u001b[0m\u001b[0;34m\u001b[0m\u001b[0m\n\u001b[0m",
            "\u001b[0;31mIndexError\u001b[0m: boolean index did not match indexed array along axis 1; size of axis is 4 but size of corresponding boolean axis is 1"
          ]
        }
      ]
    },
    {
      "cell_type": "markdown",
      "source": [
        "A single boolean index array is practically identical to x[obj.nonzero()] where, as described above, obj.nonzero() returns a tuple (of length obj.ndim) of integer index arrays showing the True elements of obj. However, it is faster when obj.shape == x.shape."
      ],
      "metadata": {
        "id": "OxABthLFZocv"
      }
    },
    {
      "cell_type": "code",
      "source": [
        "x = np.array([11, 22, 33, 44, 55])\n",
        "mask = np.array([False, False, True, False, True])\n",
        "\n",
        "print(mask)\n",
        "print(mask.nonzero(), type(mask.nonzero()))\n",
        "print(x[mask])\n",
        "print(x[mask.nonzero()])"
      ],
      "metadata": {
        "colab": {
          "base_uri": "https://localhost:8080/"
        },
        "id": "Gqo5003eRgg0",
        "outputId": "59be2327-a147-4840-f3a5-2d1bb786f8f2"
      },
      "execution_count": null,
      "outputs": [
        {
          "output_type": "stream",
          "name": "stdout",
          "text": [
            "[False False  True False  True]\n",
            "(array([2, 4]),) <class 'tuple'>\n",
            "[33 55]\n",
            "[33 55]\n"
          ]
        }
      ]
    },
    {
      "cell_type": "code",
      "source": [
        "x = np.arange(35).reshape(5, 7)\n",
        "print(x)\n",
        "print(x[:, 5])\n",
        "print(x[:, 5:6])\n",
        "\n",
        "mask = x > 20\n",
        "print(mask)"
      ],
      "metadata": {
        "colab": {
          "base_uri": "https://localhost:8080/"
        },
        "id": "4mrZnII5RhAQ",
        "outputId": "6a36681c-6edb-4929-fc49-5fb0c7c610a9"
      },
      "execution_count": null,
      "outputs": [
        {
          "output_type": "stream",
          "name": "stdout",
          "text": [
            "[[ 0  1  2  3  4  5  6]\n",
            " [ 7  8  9 10 11 12 13]\n",
            " [14 15 16 17 18 19 20]\n",
            " [21 22 23 24 25 26 27]\n",
            " [28 29 30 31 32 33 34]]\n",
            "[ 5 12 19 26 33]\n",
            "[[ 5]\n",
            " [12]\n",
            " [19]\n",
            " [26]\n",
            " [33]]\n",
            "[[False False False False False False False]\n",
            " [False False False False False False False]\n",
            " [False False False False False False False]\n",
            " [ True  True  True  True  True  True  True]\n",
            " [ True  True  True  True  True  True  True]]\n"
          ]
        }
      ]
    },
    {
      "cell_type": "code",
      "source": [
        "import numpy as np"
      ],
      "metadata": {
        "id": "MFXRbG0VWBdO"
      },
      "execution_count": null,
      "outputs": []
    },
    {
      "cell_type": "code",
      "source": [
        "# Q - select all rows which sum up to less or equal two\n",
        "x = np.array([[0, 1], [1, 1], [2, 2]])\n",
        "sum_row = x.sum(-1)\n",
        "sum_col = x.sum(0)\n",
        "\n",
        "mask = sum_row <= 2\n",
        "\n",
        "print(x, end=f'\\n{30*'-'}\\n')\n",
        "print(sum_row, end=f'\\n{30*'-'}\\n')\n",
        "print(sum_col, end=f'\\n{30*'-'}\\n')\n",
        "\n",
        "print(x[mask])"
      ],
      "metadata": {
        "colab": {
          "base_uri": "https://localhost:8080/"
        },
        "id": "FZkEfwurRdkE",
        "outputId": "bdd3b3ac-73c4-42f6-c9a7-7f50edc3437a"
      },
      "execution_count": null,
      "outputs": [
        {
          "output_type": "stream",
          "name": "stdout",
          "text": [
            "[[0 1]\n",
            " [1 1]\n",
            " [2 2]]\n",
            "------------------------------\n",
            "[1 2 4]\n",
            "------------------------------\n",
            "[3 4]\n",
            "------------------------------\n",
            "[[0 1]\n",
            " [1 1]]\n"
          ]
        }
      ]
    },
    {
      "cell_type": "code",
      "source": [
        "x = np.array([[ 0,  1,  2],\n",
        "              [ 3,  4,  5],\n",
        "              [ 6,  7,  8],\n",
        "              [ 9, 10, 11]]) # shape (4, 3)\n",
        "mask = (x.sum(-1) % 2 == 0) #shape (4,)\n",
        "\n",
        "print(mask)\n",
        "print(x[mask])\n",
        "\n",
        "print(x[mask, [0, 2]])"
      ],
      "metadata": {
        "colab": {
          "base_uri": "https://localhost:8080/"
        },
        "id": "rDUKXaWTajtc",
        "outputId": "dbee078c-08cf-4867-9355-06a9276c8f8d"
      },
      "execution_count": null,
      "outputs": [
        {
          "output_type": "stream",
          "name": "stdout",
          "text": [
            "[False  True False  True]\n",
            "[[ 3  4  5]\n",
            " [ 9 10 11]]\n",
            "[ 3 11]\n"
          ]
        }
      ]
    },
    {
      "cell_type": "markdown",
      "source": [
        "## Data types"
      ],
      "metadata": {
        "id": "kWAvy-3Gt1q0"
      }
    },
    {
      "cell_type": "markdown",
      "source": [
        "Note that, we could have used the Python float object as a dtype instead of numpy.float64. NumPy knows that int refers to numpy.int_, bool means numpy.bool, that float is numpy.float64 and complex is numpy.complex128. The other data-types do not have Python equivalents."
      ],
      "metadata": {
        "id": "NA1vzEmEursO"
      }
    },
    {
      "cell_type": "code",
      "source": [
        "x = np.array([1, 2, 3], dtype=float)\n",
        "print(x)\n",
        "print(x.dtype)\n",
        "\n",
        "x = np.array([1, 2, 3], dtype=bool)\n",
        "print(x)\n",
        "print(x.dtype)\n",
        "\n",
        "x = np.array([1, 2, 3], dtype=complex)\n",
        "print(x)\n",
        "print(x.dtype)\n",
        "\n",
        "\n",
        "x = np.array([1, 2, 3], dtype=int)\n",
        "print(x)\n",
        "print(x.dtype)\n"
      ],
      "metadata": {
        "colab": {
          "base_uri": "https://localhost:8080/"
        },
        "id": "4hsAmsv-t6vG",
        "outputId": "3cc0712b-e359-4d7b-a0ce-f0ff136355b8"
      },
      "execution_count": null,
      "outputs": [
        {
          "output_type": "stream",
          "name": "stdout",
          "text": [
            "[1. 2. 3.]\n",
            "float64\n",
            "[ True  True  True]\n",
            "bool\n",
            "[1.+0.j 2.+0.j 3.+0.j]\n",
            "complex128\n",
            "[1 2 3]\n",
            "int64\n"
          ]
        }
      ]
    },
    {
      "cell_type": "markdown",
      "source": [
        "pay attension to following cells:\n",
        "\n",
        "\n",
        "*   Numerical Data Types: There are 5 basic numerical types representing booleans (bool), integers (int), unsigned integers (uint) floating point (float) and complex.\n",
        "\n",
        "*   Data Types for Strings and Bytes\n",
        "\n"
      ],
      "metadata": {
        "id": "k4SVntHvvoKl"
      }
    },
    {
      "cell_type": "markdown",
      "source": [
        "numpy data types and character code:\n",
        "\n",
        "\n",
        "*   np.str_ -> U\n",
        "\n",
        "*   np.bytes_ -> s\n",
        "\n",
        "*   np.void -> V\n",
        "*   List item\n",
        "\n",
        "\n",
        "*   List item\n",
        "\n",
        "\n",
        "*   List item\n",
        "\n",
        "\n",
        "\n"
      ],
      "metadata": {
        "id": "i6FtgjvcwYnT"
      }
    },
    {
      "cell_type": "markdown",
      "source": [
        "- null-terminated byte sequences via numpy.bytes_\n",
        "- arbitrary byte sequences, via numpy.void\n",
        "- unicode strings, via the numpy.str_"
      ],
      "metadata": {
        "id": "USRi6KHZ1uSH"
      }
    },
    {
      "cell_type": "markdown",
      "source": [
        "![Capture.PNG](data:image/png;base64,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)"
      ],
      "metadata": {
        "id": "mUMERAwXvWeD"
      }
    },
    {
      "cell_type": "code",
      "source": [
        "x = np.array([1, 2, 3], dtype=np.float16)\n",
        "print(x)\n",
        "print(x.dtype)\n",
        "print(np.issubdtype(x.dtype, np.floating))\n",
        "print(np.issubdtype(x.dtype, np.integer))\n",
        "print(np.issubdtype(x.dtype, np.number))\n",
        "print(np.issubdtype(x.dtype, np.generic))"
      ],
      "metadata": {
        "colab": {
          "base_uri": "https://localhost:8080/"
        },
        "id": "i-JNvQrGu8Re",
        "outputId": "fd3a8d34-23bb-47a4-e43d-94554475ecdf"
      },
      "execution_count": null,
      "outputs": [
        {
          "output_type": "stream",
          "name": "stdout",
          "text": [
            "[1. 2. 3.]\n",
            "float16\n",
            "True\n",
            "False\n",
            "True\n",
            "True\n"
          ]
        }
      ]
    },
    {
      "cell_type": "markdown",
      "source": [
        "# Read Later"
      ],
      "metadata": {
        "id": "IZR0ENMKkZP-"
      }
    },
    {
      "cell_type": "markdown",
      "source": [
        "\n",
        "\n",
        "*   You may use slicing to set values in the array, but (unlike lists) you can never grow the array. The size of the value to be set in x[obj] = value must be (broadcastable to) the same shape as x[obj].\n",
        "\n",
        "\n",
        "*   A slicing tuple can always be constructed as obj and used in the x[obj]\n",
        "notation. Slice objects can be used in the construction in place of the [start:stop:step] notation. For example, x[1:10:5, ::-1] can also be implemented as obj = (slice(1, 10, 5), slice(None, None, -1)); x[obj] . This can be useful for constructing generic code that works on arrays of arbitrary dimensions. See Dealing with variable numbers of indices within programs for more information.\n",
        "- A real-life example of where advanced indexing may be useful is for a color lookup table where we want to map the values of an image into RGB triples for display. The lookup table could have a shape (nlookup, 3). Indexing such an array with an image with shape (ny, nx) with dtype=np.uint8 (or any integer type so long as values are with the bounds of the lookup table) will result in an array of shape (ny, nx, 3) where a triple of RGB values is associated with each pixel location.\n",
        "\n",
        "\n"
      ],
      "metadata": {
        "id": "5lt5xhBOlkt_"
      }
    },
    {
      "cell_type": "code",
      "source": [
        "'https://idbgbforg.zoom.us/webinar/register/WN_qKH4TP2BRZ22_ItpHvxGjg#/registration ' == 'https://idbgbforg.zoom.us/webinar/register/WN_qKH4TP2BRZ22_ItpHvxGjg#/registration '"
      ],
      "metadata": {
        "colab": {
          "base_uri": "https://localhost:8080/"
        },
        "id": "hi5T66KAluld",
        "outputId": "dfd7167b-cc88-4930-aec4-7401f5c122cd"
      },
      "execution_count": null,
      "outputs": [
        {
          "output_type": "execute_result",
          "data": {
            "text/plain": [
              "True"
            ]
          },
          "metadata": {},
          "execution_count": 1
        }
      ]
    },
    {
      "cell_type": "markdown",
      "source": [
        "If the index arrays do not have the same shape, there is an attempt to broadcast them to the same shape. If they cannot be broadcast to the same shape, an exception is raised"
      ],
      "metadata": {
        "id": "NsWzpDOM--VO"
      }
    },
    {
      "cell_type": "code",
      "source": [
        "y[np.array([0, 2, 4]), np.array([0, 1])]"
      ],
      "metadata": {
        "id": "FSn8BYhi_ESs"
      },
      "execution_count": null,
      "outputs": []
    },
    {
      "cell_type": "markdown",
      "source": [
        "- in advanced integer array indexing: In general, the shape of the resultant array will be the concatenation of the shape of the index array (or the shape that all the index arrays were broadcast to) with the shape of any unused dimensions (those not indexed) in the array being indexed.\n",
        "- read \"A practical example: vector quantization\" in below link:\n",
        "https://numpy.org/doc/stable/user/basics.broadcasting.html\n",
        "\n",
        "- read about %timeit and cprofile library\n",
        "- In general if an index includes a Boolean array, the result will be identical to inserting obj.nonzero() into the same position and using the integer array indexing mechanism described above. x[ind_1, boolean_array, ind_2] is equivalent to x[(ind_1,) + boolean_array.nonzero() + (ind_2,)].\n",
        "\n",
        "  If there is only one Boolean array and no integer indexing array present, this is straightforward. Care must only be taken to make sure that the boolean index has exactly as many dimensions as it is supposed to work with.\n",
        "\n",
        "  In general, when the boolean array has fewer dimensions than the array being indexed, this is equivalent to x[b, ...], which means x is indexed by b followed by as many : as are needed to fill out the rank of x. Thus the shape of the result is one dimension containing the number of True elements of the boolean array, followed by the remaining dimensions of the array being indexed (from advanced indexing in numpy documentation)\n",
        "\n",
        "- - read more about np.str_, np.bytes_ na dn.void"
      ],
      "metadata": {
        "id": "R_C4wsI1AISz"
      }
    },
    {
      "cell_type": "markdown",
      "source": [
        "# Questions"
      ],
      "metadata": {
        "id": "lGx3lGHSxQ8X"
      }
    },
    {
      "cell_type": "code",
      "source": [
        "import numpy as np"
      ],
      "metadata": {
        "id": "lH7ct01yWRF5"
      },
      "execution_count": 1,
      "outputs": []
    },
    {
      "cell_type": "code",
      "source": [
        "# Q- Create a NumPy array of 5 equally spaced values between 0 and 1 (inclusive) and also return the spacing between values using np.linspace.\n",
        "x = np.linspace(0, 1, 5, endpoint=True, retstep=True, axis=0)\n",
        "print(x)"
      ],
      "metadata": {
        "id": "73d0mNABxTQb",
        "outputId": "0fd4c0cb-f9e4-4e0c-fee4-c9455680be8b",
        "colab": {
          "base_uri": "https://localhost:8080/"
        }
      },
      "execution_count": 2,
      "outputs": [
        {
          "output_type": "stream",
          "name": "stdout",
          "text": [
            "(array([0.  , 0.25, 0.5 , 0.75, 1.  ]), np.float64(0.25))\n"
          ]
        }
      ]
    },
    {
      "cell_type": "code",
      "source": [
        "# Q - Create a 2D NumPy array with 3 rows, where each row contains 5 equally spaced values starting from 0 and ending at 1, 2, and 3 respectively, using np.linspace along axis 1.\n",
        "# Create 3 sequences (rows), each ranging from 0 to different stop values\n",
        "start = np.zeros(3)      # [0, 0, 0]\n",
        "stop = np.array([1, 2, 3])\n",
        "\n",
        "# Generate 5 points between start and stop for each row, along axis=1\n",
        "result = np.linspace(start, stop, num=5, axis=1)\n",
        "\n",
        "print(result)"
      ],
      "metadata": {
        "id": "_Mq7NsOZWJ0P",
        "outputId": "a5461081-9744-4b97-999b-75c95acf2a78",
        "colab": {
          "base_uri": "https://localhost:8080/"
        }
      },
      "execution_count": 3,
      "outputs": [
        {
          "output_type": "stream",
          "name": "stdout",
          "text": [
            "[[0.   0.25 0.5  0.75 1.  ]\n",
            " [0.   0.5  1.   1.5  2.  ]\n",
            " [0.   0.75 1.5  2.25 3.  ]]\n"
          ]
        }
      ]
    },
    {
      "cell_type": "code",
      "source": [
        "# Q - Create a 3x3 identity matrix using NumPy\n",
        "print(np.identity(3, dtype=np.uint8))\n",
        "print(np.identity(3)) #Data-type of the output. Defaults to float.\n",
        "\n",
        "print(np.eye(3))\n",
        "print(np.eye(3, 5))\n",
        "print(np.eye(3, k=1)) #Index of the diagonal: 0 (the default) refers to the main diagonal, a positive value refers to an upper diagonal, and a negative value to a lower diagonal."
      ],
      "metadata": {
        "id": "IFxywNMqVxC2",
        "outputId": "81be787b-1b8c-41a8-b41f-5c5b0cdde7f2",
        "colab": {
          "base_uri": "https://localhost:8080/"
        }
      },
      "execution_count": 4,
      "outputs": [
        {
          "output_type": "stream",
          "name": "stdout",
          "text": [
            "[[1 0 0]\n",
            " [0 1 0]\n",
            " [0 0 1]]\n",
            "[[1. 0. 0.]\n",
            " [0. 1. 0.]\n",
            " [0. 0. 1.]]\n",
            "[[1. 0. 0.]\n",
            " [0. 1. 0.]\n",
            " [0. 0. 1.]]\n",
            "[[1. 0. 0. 0. 0.]\n",
            " [0. 1. 0. 0. 0.]\n",
            " [0. 0. 1. 0. 0.]]\n",
            "[[0. 1. 0.]\n",
            " [0. 0. 1.]\n",
            " [0. 0. 0.]]\n"
          ]
        }
      ]
    },
    {
      "cell_type": "code",
      "source": [
        "# Q - Create an array filled with the value 7 with shape (3,3)\n",
        "print(np.full(shape=(2, 3), fill_value=10, dtype=np.uint8))"
      ],
      "metadata": {
        "id": "BCRcwAIxV0Yu",
        "outputId": "c74b62d5-070b-46d7-9cf3-6e1d4753d2c7",
        "colab": {
          "base_uri": "https://localhost:8080/"
        }
      },
      "execution_count": 5,
      "outputs": [
        {
          "output_type": "stream",
          "name": "stdout",
          "text": [
            "[[10 10 10]\n",
            " [10 10 10]]\n"
          ]
        }
      ]
    },
    {
      "cell_type": "code",
      "source": [
        "# Q - Create a boolean array of length 6 with alternating True/False starting with True\n",
        "print([True, False] * 3)\n",
        "print(np.array([True, False]) * 3) #broadcasting in numpy\n",
        "\n",
        "pattern = np.array([True, False])\n",
        "print(np.tile(pattern, 3))"
      ],
      "metadata": {
        "id": "34-vWvD-V1wV",
        "outputId": "3173f489-ff30-4f06-e9e6-c1fb9c5816fc",
        "colab": {
          "base_uri": "https://localhost:8080/"
        }
      },
      "execution_count": 6,
      "outputs": [
        {
          "output_type": "stream",
          "name": "stdout",
          "text": [
            "[True, False, True, False, True, False]\n",
            "[3 0]\n",
            "[ True False  True False  True False]\n"
          ]
        }
      ]
    },
    {
      "cell_type": "code",
      "source": [
        "# Q - Given arr = np.arange(20), return every 3rd element starting from index 1.\n",
        "x = np.arange(20)\n",
        "print(x[1::3])"
      ],
      "metadata": {
        "id": "oUsZiQS6V4Ga",
        "outputId": "4126ea73-36ee-4fb1-f801-47b421108db8",
        "colab": {
          "base_uri": "https://localhost:8080/"
        }
      },
      "execution_count": 7,
      "outputs": [
        {
          "output_type": "stream",
          "name": "stdout",
          "text": [
            "[ 1  4  7 10 13 16 19]\n"
          ]
        }
      ]
    },
    {
      "cell_type": "code",
      "source": [
        "# Q - Reverse a 1-D array arr = np.arange(10) using slicing.\n",
        "x = np.arange(10)\n",
        "rev = x[::-1]\n",
        "\n",
        "print(rev)"
      ],
      "metadata": {
        "id": "oEoPFxhvV5Nl",
        "outputId": "71c43a78-a491-4517-e74c-b4ba859747cf",
        "colab": {
          "base_uri": "https://localhost:8080/"
        }
      },
      "execution_count": 8,
      "outputs": [
        {
          "output_type": "stream",
          "name": "stdout",
          "text": [
            "[9 8 7 6 5 4 3 2 1 0]\n"
          ]
        }
      ]
    },
    {
      "cell_type": "code",
      "source": [
        "# Q - Given a 3x3 array, set the diagonal elements to 5 using indexing.\n",
        "x = np.zeros(shape=(3, 3))\n",
        "print(x)\n",
        "np.fill_diagonal(x, 5)\n",
        "print(x)\n",
        "np.fill_diagonal(x, [11, 22, 33])\n",
        "print(x)"
      ],
      "metadata": {
        "id": "HAPy34ZvV6Xt",
        "outputId": "03525005-3bf3-425d-8dd3-d1778a72e66b",
        "colab": {
          "base_uri": "https://localhost:8080/"
        }
      },
      "execution_count": 9,
      "outputs": [
        {
          "output_type": "stream",
          "name": "stdout",
          "text": [
            "[[0. 0. 0.]\n",
            " [0. 0. 0.]\n",
            " [0. 0. 0.]]\n",
            "[[5. 0. 0.]\n",
            " [0. 5. 0.]\n",
            " [0. 0. 5.]]\n",
            "[[11.  0.  0.]\n",
            " [ 0. 22.  0.]\n",
            " [ 0.  0. 33.]]\n"
          ]
        }
      ]
    },
    {
      "cell_type": "code",
      "source": [
        "# Q - extract the main, above and below diagonal\n",
        "x = np.arange(16).reshape(4, 4)\n",
        "print(x, end=f\"\\n***************\\n\")\n",
        "\n",
        "# Works on an existing array and returns a view of the diagonal.\n",
        "print(np.diagonal(x), end=f\"\\n***************\\n\")\n",
        "print(np.diagonal(x, offset=1))  # diagonal above the main one\n",
        "print(np.diagonal(x, offset=-1)) # diagonal below the main one\n",
        "\n",
        "# returns a copy of the diagonal\n",
        "print(np.diag(x), end=f\"\\n***************\\n\")\n",
        "print(np.diag(x, k=1), end=f\"\\n***************\\n\")\n",
        "print(np.diag(x, k=-1), end=f\"\\n***************\\n\")"
      ],
      "metadata": {
        "id": "FdduzzuDV7im",
        "outputId": "96744251-8d7b-4b9a-b2c7-761820733e65",
        "colab": {
          "base_uri": "https://localhost:8080/"
        }
      },
      "execution_count": 10,
      "outputs": [
        {
          "output_type": "stream",
          "name": "stdout",
          "text": [
            "[[ 0  1  2  3]\n",
            " [ 4  5  6  7]\n",
            " [ 8  9 10 11]\n",
            " [12 13 14 15]]\n",
            "***************\n",
            "[ 0  5 10 15]\n",
            "***************\n",
            "[ 1  6 11]\n",
            "[ 4  9 14]\n",
            "[ 0  5 10 15]\n",
            "***************\n",
            "[ 1  6 11]\n",
            "***************\n",
            "[ 4  9 14]\n",
            "***************\n"
          ]
        }
      ]
    },
    {
      "cell_type": "code",
      "source": [
        "# Q - Given arr = np.arange(27).reshape(3,3,3), extract the subarray corresponding to the first 2 elements along axis 0.\n",
        "x = np.arange(27).reshape(3, 3, 3)\n",
        "print(x)\n",
        "\n",
        "print(x[0:2, :, :])"
      ],
      "metadata": {
        "id": "kwZw7nT5V9Nu",
        "outputId": "78c770fc-0611-4ed5-885e-0abd47c982d2",
        "colab": {
          "base_uri": "https://localhost:8080/"
        }
      },
      "execution_count": 11,
      "outputs": [
        {
          "output_type": "stream",
          "name": "stdout",
          "text": [
            "[[[ 0  1  2]\n",
            "  [ 3  4  5]\n",
            "  [ 6  7  8]]\n",
            "\n",
            " [[ 9 10 11]\n",
            "  [12 13 14]\n",
            "  [15 16 17]]\n",
            "\n",
            " [[18 19 20]\n",
            "  [21 22 23]\n",
            "  [24 25 26]]]\n",
            "[[[ 0  1  2]\n",
            "  [ 3  4  5]\n",
            "  [ 6  7  8]]\n",
            "\n",
            " [[ 9 10 11]\n",
            "  [12 13 14]\n",
            "  [15 16 17]]]\n"
          ]
        }
      ]
    },
    {
      "cell_type": "code",
      "source": [],
      "metadata": {
        "id": "Nm3UGor5WYfD"
      },
      "execution_count": 11,
      "outputs": []
    }
  ],
  "metadata": {
    "colab": {
      "provenance": [],
      "authorship_tag": "ABX9TyPJsTS4xfkH5BOHkg6m8W/J",
      "include_colab_link": true
    },
    "kernelspec": {
      "display_name": "Python 3",
      "name": "python3"
    },
    "language_info": {
      "name": "python"
    }
  },
  "nbformat": 4,
  "nbformat_minor": 0
}